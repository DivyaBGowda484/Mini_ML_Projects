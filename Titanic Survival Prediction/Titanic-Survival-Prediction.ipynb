{
 "cells": [
  {
   "cell_type": "markdown",
   "id": "118e46ce",
   "metadata": {
    "papermill": {
     "duration": 0.017304,
     "end_time": "2025-03-08T07:27:26.472309",
     "exception": false,
     "start_time": "2025-03-08T07:27:26.455005",
     "status": "completed"
    },
    "tags": []
   },
   "source": [
    "# **Titanic Survival Prediction**"
   ]
  },
  {
   "cell_type": "markdown",
   "id": "ce737bda",
   "metadata": {
    "papermill": {
     "duration": 0.01728,
     "end_time": "2025-03-08T07:27:26.506674",
     "exception": false,
     "start_time": "2025-03-08T07:27:26.489394",
     "status": "completed"
    },
    "tags": []
   },
   "source": [
    "**Problem Statement:**\n",
    "It predicts weather the person survived from the titanic sink or not\n",
    "\n",
    "**Observation:**\n",
    "Classification Problem"
   ]
  },
  {
   "cell_type": "markdown",
   "id": "6abce21f",
   "metadata": {
    "papermill": {
     "duration": 0.015811,
     "end_time": "2025-03-08T07:27:26.540588",
     "exception": false,
     "start_time": "2025-03-08T07:27:26.524777",
     "status": "completed"
    },
    "tags": []
   },
   "source": [
    "## IMPORTING LIBRARIES"
   ]
  },
  {
   "cell_type": "code",
   "execution_count": 1,
   "id": "85babf19",
   "metadata": {
    "execution": {
     "iopub.execute_input": "2025-03-08T07:27:26.574793Z",
     "iopub.status.busy": "2025-03-08T07:27:26.574155Z",
     "iopub.status.idle": "2025-03-08T07:27:29.215361Z",
     "shell.execute_reply": "2025-03-08T07:27:29.214251Z"
    },
    "papermill": {
     "duration": 2.660499,
     "end_time": "2025-03-08T07:27:29.217513",
     "exception": false,
     "start_time": "2025-03-08T07:27:26.557014",
     "status": "completed"
    },
    "tags": []
   },
   "outputs": [
    {
     "name": "stdout",
     "output_type": "stream",
     "text": [
      "/kaggle/input/titanic/train.csv\n",
      "/kaggle/input/titanic/test.csv\n",
      "/kaggle/input/titanic/gender_submission.csv\n"
     ]
    }
   ],
   "source": [
    "import numpy as np \n",
    "import pandas as pd\n",
    "import matplotlib.pyplot as plt\n",
    "import seaborn as sns\n",
    "\n",
    "import os\n",
    "for dirname, _, filenames in os.walk('/kaggle/input'):\n",
    "    for filename in filenames:\n",
    "        print(os.path.join(dirname, filename))"
   ]
  },
  {
   "cell_type": "markdown",
   "id": "79b6d9f9",
   "metadata": {
    "papermill": {
     "duration": 0.015923,
     "end_time": "2025-03-08T07:27:29.250463",
     "exception": false,
     "start_time": "2025-03-08T07:27:29.234540",
     "status": "completed"
    },
    "tags": []
   },
   "source": [
    "## IMPORTING THE DATASET"
   ]
  },
  {
   "cell_type": "code",
   "execution_count": 2,
   "id": "167e1088",
   "metadata": {
    "execution": {
     "iopub.execute_input": "2025-03-08T07:27:29.284315Z",
     "iopub.status.busy": "2025-03-08T07:27:29.283825Z",
     "iopub.status.idle": "2025-03-08T07:27:29.310973Z",
     "shell.execute_reply": "2025-03-08T07:27:29.310048Z"
    },
    "papermill": {
     "duration": 0.046048,
     "end_time": "2025-03-08T07:27:29.312806",
     "exception": false,
     "start_time": "2025-03-08T07:27:29.266758",
     "status": "completed"
    },
    "tags": []
   },
   "outputs": [],
   "source": [
    "# Importing training data\n",
    "\n",
    "train = pd.read_csv(\"/kaggle/input/titanic/train.csv\")\n",
    "\n",
    "# Importing test data\n",
    "\n",
    "test = pd.read_csv(\"/kaggle/input/titanic/test.csv\")"
   ]
  },
  {
   "cell_type": "markdown",
   "id": "7f5b77ee",
   "metadata": {
    "papermill": {
     "duration": 0.015672,
     "end_time": "2025-03-08T07:27:29.345081",
     "exception": false,
     "start_time": "2025-03-08T07:27:29.329409",
     "status": "completed"
    },
    "tags": []
   },
   "source": [
    "## UNDERSTANDING THE DATASET"
   ]
  },
  {
   "cell_type": "markdown",
   "id": "e8d96778",
   "metadata": {
    "papermill": {
     "duration": 0.015998,
     "end_time": "2025-03-08T07:27:29.377098",
     "exception": false,
     "start_time": "2025-03-08T07:27:29.361100",
     "status": "completed"
    },
    "tags": []
   },
   "source": [
    "Did not survive --> 0\n",
    "\n",
    "survived --> 1"
   ]
  },
  {
   "cell_type": "code",
   "execution_count": 3,
   "id": "437236c4",
   "metadata": {
    "execution": {
     "iopub.execute_input": "2025-03-08T07:27:29.411296Z",
     "iopub.status.busy": "2025-03-08T07:27:29.410960Z",
     "iopub.status.idle": "2025-03-08T07:27:29.440166Z",
     "shell.execute_reply": "2025-03-08T07:27:29.439114Z"
    },
    "papermill": {
     "duration": 0.0478,
     "end_time": "2025-03-08T07:27:29.441843",
     "exception": false,
     "start_time": "2025-03-08T07:27:29.394043",
     "status": "completed"
    },
    "tags": []
   },
   "outputs": [
    {
     "data": {
      "text/html": [
       "<div>\n",
       "<style scoped>\n",
       "    .dataframe tbody tr th:only-of-type {\n",
       "        vertical-align: middle;\n",
       "    }\n",
       "\n",
       "    .dataframe tbody tr th {\n",
       "        vertical-align: top;\n",
       "    }\n",
       "\n",
       "    .dataframe thead th {\n",
       "        text-align: right;\n",
       "    }\n",
       "</style>\n",
       "<table border=\"1\" class=\"dataframe\">\n",
       "  <thead>\n",
       "    <tr style=\"text-align: right;\">\n",
       "      <th></th>\n",
       "      <th>PassengerId</th>\n",
       "      <th>Survived</th>\n",
       "      <th>Pclass</th>\n",
       "      <th>Name</th>\n",
       "      <th>Sex</th>\n",
       "      <th>Age</th>\n",
       "      <th>SibSp</th>\n",
       "      <th>Parch</th>\n",
       "      <th>Ticket</th>\n",
       "      <th>Fare</th>\n",
       "      <th>Cabin</th>\n",
       "      <th>Embarked</th>\n",
       "    </tr>\n",
       "  </thead>\n",
       "  <tbody>\n",
       "    <tr>\n",
       "      <th>0</th>\n",
       "      <td>1</td>\n",
       "      <td>0</td>\n",
       "      <td>3</td>\n",
       "      <td>Braund, Mr. Owen Harris</td>\n",
       "      <td>male</td>\n",
       "      <td>22.0</td>\n",
       "      <td>1</td>\n",
       "      <td>0</td>\n",
       "      <td>A/5 21171</td>\n",
       "      <td>7.2500</td>\n",
       "      <td>NaN</td>\n",
       "      <td>S</td>\n",
       "    </tr>\n",
       "    <tr>\n",
       "      <th>1</th>\n",
       "      <td>2</td>\n",
       "      <td>1</td>\n",
       "      <td>1</td>\n",
       "      <td>Cumings, Mrs. John Bradley (Florence Briggs Th...</td>\n",
       "      <td>female</td>\n",
       "      <td>38.0</td>\n",
       "      <td>1</td>\n",
       "      <td>0</td>\n",
       "      <td>PC 17599</td>\n",
       "      <td>71.2833</td>\n",
       "      <td>C85</td>\n",
       "      <td>C</td>\n",
       "    </tr>\n",
       "    <tr>\n",
       "      <th>2</th>\n",
       "      <td>3</td>\n",
       "      <td>1</td>\n",
       "      <td>3</td>\n",
       "      <td>Heikkinen, Miss. Laina</td>\n",
       "      <td>female</td>\n",
       "      <td>26.0</td>\n",
       "      <td>0</td>\n",
       "      <td>0</td>\n",
       "      <td>STON/O2. 3101282</td>\n",
       "      <td>7.9250</td>\n",
       "      <td>NaN</td>\n",
       "      <td>S</td>\n",
       "    </tr>\n",
       "    <tr>\n",
       "      <th>3</th>\n",
       "      <td>4</td>\n",
       "      <td>1</td>\n",
       "      <td>1</td>\n",
       "      <td>Futrelle, Mrs. Jacques Heath (Lily May Peel)</td>\n",
       "      <td>female</td>\n",
       "      <td>35.0</td>\n",
       "      <td>1</td>\n",
       "      <td>0</td>\n",
       "      <td>113803</td>\n",
       "      <td>53.1000</td>\n",
       "      <td>C123</td>\n",
       "      <td>S</td>\n",
       "    </tr>\n",
       "    <tr>\n",
       "      <th>4</th>\n",
       "      <td>5</td>\n",
       "      <td>0</td>\n",
       "      <td>3</td>\n",
       "      <td>Allen, Mr. William Henry</td>\n",
       "      <td>male</td>\n",
       "      <td>35.0</td>\n",
       "      <td>0</td>\n",
       "      <td>0</td>\n",
       "      <td>373450</td>\n",
       "      <td>8.0500</td>\n",
       "      <td>NaN</td>\n",
       "      <td>S</td>\n",
       "    </tr>\n",
       "  </tbody>\n",
       "</table>\n",
       "</div>"
      ],
      "text/plain": [
       "   PassengerId  Survived  Pclass  \\\n",
       "0            1         0       3   \n",
       "1            2         1       1   \n",
       "2            3         1       3   \n",
       "3            4         1       1   \n",
       "4            5         0       3   \n",
       "\n",
       "                                                Name     Sex   Age  SibSp  \\\n",
       "0                            Braund, Mr. Owen Harris    male  22.0      1   \n",
       "1  Cumings, Mrs. John Bradley (Florence Briggs Th...  female  38.0      1   \n",
       "2                             Heikkinen, Miss. Laina  female  26.0      0   \n",
       "3       Futrelle, Mrs. Jacques Heath (Lily May Peel)  female  35.0      1   \n",
       "4                           Allen, Mr. William Henry    male  35.0      0   \n",
       "\n",
       "   Parch            Ticket     Fare Cabin Embarked  \n",
       "0      0         A/5 21171   7.2500   NaN        S  \n",
       "1      0          PC 17599  71.2833   C85        C  \n",
       "2      0  STON/O2. 3101282   7.9250   NaN        S  \n",
       "3      0            113803  53.1000  C123        S  \n",
       "4      0            373450   8.0500   NaN        S  "
      ]
     },
     "execution_count": 3,
     "metadata": {},
     "output_type": "execute_result"
    }
   ],
   "source": [
    "train.head()"
   ]
  },
  {
   "cell_type": "markdown",
   "id": "0e678be2",
   "metadata": {
    "papermill": {
     "duration": 0.01573,
     "end_time": "2025-03-08T07:27:29.473877",
     "exception": false,
     "start_time": "2025-03-08T07:27:29.458147",
     "status": "completed"
    },
    "tags": []
   },
   "source": [
    "**Observation:** We can observe that passengerid, name, ticket columns are not that much useful for our prediction"
   ]
  },
  {
   "cell_type": "code",
   "execution_count": 4,
   "id": "da215c6a",
   "metadata": {
    "execution": {
     "iopub.execute_input": "2025-03-08T07:27:29.507868Z",
     "iopub.status.busy": "2025-03-08T07:27:29.507476Z",
     "iopub.status.idle": "2025-03-08T07:27:29.521243Z",
     "shell.execute_reply": "2025-03-08T07:27:29.520230Z"
    },
    "papermill": {
     "duration": 0.032854,
     "end_time": "2025-03-08T07:27:29.522807",
     "exception": false,
     "start_time": "2025-03-08T07:27:29.489953",
     "status": "completed"
    },
    "tags": []
   },
   "outputs": [
    {
     "data": {
      "text/html": [
       "<div>\n",
       "<style scoped>\n",
       "    .dataframe tbody tr th:only-of-type {\n",
       "        vertical-align: middle;\n",
       "    }\n",
       "\n",
       "    .dataframe tbody tr th {\n",
       "        vertical-align: top;\n",
       "    }\n",
       "\n",
       "    .dataframe thead th {\n",
       "        text-align: right;\n",
       "    }\n",
       "</style>\n",
       "<table border=\"1\" class=\"dataframe\">\n",
       "  <thead>\n",
       "    <tr style=\"text-align: right;\">\n",
       "      <th></th>\n",
       "      <th>PassengerId</th>\n",
       "      <th>Pclass</th>\n",
       "      <th>Name</th>\n",
       "      <th>Sex</th>\n",
       "      <th>Age</th>\n",
       "      <th>SibSp</th>\n",
       "      <th>Parch</th>\n",
       "      <th>Ticket</th>\n",
       "      <th>Fare</th>\n",
       "      <th>Cabin</th>\n",
       "      <th>Embarked</th>\n",
       "    </tr>\n",
       "  </thead>\n",
       "  <tbody>\n",
       "    <tr>\n",
       "      <th>0</th>\n",
       "      <td>892</td>\n",
       "      <td>3</td>\n",
       "      <td>Kelly, Mr. James</td>\n",
       "      <td>male</td>\n",
       "      <td>34.5</td>\n",
       "      <td>0</td>\n",
       "      <td>0</td>\n",
       "      <td>330911</td>\n",
       "      <td>7.8292</td>\n",
       "      <td>NaN</td>\n",
       "      <td>Q</td>\n",
       "    </tr>\n",
       "    <tr>\n",
       "      <th>1</th>\n",
       "      <td>893</td>\n",
       "      <td>3</td>\n",
       "      <td>Wilkes, Mrs. James (Ellen Needs)</td>\n",
       "      <td>female</td>\n",
       "      <td>47.0</td>\n",
       "      <td>1</td>\n",
       "      <td>0</td>\n",
       "      <td>363272</td>\n",
       "      <td>7.0000</td>\n",
       "      <td>NaN</td>\n",
       "      <td>S</td>\n",
       "    </tr>\n",
       "    <tr>\n",
       "      <th>2</th>\n",
       "      <td>894</td>\n",
       "      <td>2</td>\n",
       "      <td>Myles, Mr. Thomas Francis</td>\n",
       "      <td>male</td>\n",
       "      <td>62.0</td>\n",
       "      <td>0</td>\n",
       "      <td>0</td>\n",
       "      <td>240276</td>\n",
       "      <td>9.6875</td>\n",
       "      <td>NaN</td>\n",
       "      <td>Q</td>\n",
       "    </tr>\n",
       "    <tr>\n",
       "      <th>3</th>\n",
       "      <td>895</td>\n",
       "      <td>3</td>\n",
       "      <td>Wirz, Mr. Albert</td>\n",
       "      <td>male</td>\n",
       "      <td>27.0</td>\n",
       "      <td>0</td>\n",
       "      <td>0</td>\n",
       "      <td>315154</td>\n",
       "      <td>8.6625</td>\n",
       "      <td>NaN</td>\n",
       "      <td>S</td>\n",
       "    </tr>\n",
       "    <tr>\n",
       "      <th>4</th>\n",
       "      <td>896</td>\n",
       "      <td>3</td>\n",
       "      <td>Hirvonen, Mrs. Alexander (Helga E Lindqvist)</td>\n",
       "      <td>female</td>\n",
       "      <td>22.0</td>\n",
       "      <td>1</td>\n",
       "      <td>1</td>\n",
       "      <td>3101298</td>\n",
       "      <td>12.2875</td>\n",
       "      <td>NaN</td>\n",
       "      <td>S</td>\n",
       "    </tr>\n",
       "  </tbody>\n",
       "</table>\n",
       "</div>"
      ],
      "text/plain": [
       "   PassengerId  Pclass                                          Name     Sex  \\\n",
       "0          892       3                              Kelly, Mr. James    male   \n",
       "1          893       3              Wilkes, Mrs. James (Ellen Needs)  female   \n",
       "2          894       2                     Myles, Mr. Thomas Francis    male   \n",
       "3          895       3                              Wirz, Mr. Albert    male   \n",
       "4          896       3  Hirvonen, Mrs. Alexander (Helga E Lindqvist)  female   \n",
       "\n",
       "    Age  SibSp  Parch   Ticket     Fare Cabin Embarked  \n",
       "0  34.5      0      0   330911   7.8292   NaN        Q  \n",
       "1  47.0      1      0   363272   7.0000   NaN        S  \n",
       "2  62.0      0      0   240276   9.6875   NaN        Q  \n",
       "3  27.0      0      0   315154   8.6625   NaN        S  \n",
       "4  22.0      1      1  3101298  12.2875   NaN        S  "
      ]
     },
     "execution_count": 4,
     "metadata": {},
     "output_type": "execute_result"
    }
   ],
   "source": [
    "test.head()"
   ]
  },
  {
   "cell_type": "code",
   "execution_count": 5,
   "id": "78724ef6",
   "metadata": {
    "execution": {
     "iopub.execute_input": "2025-03-08T07:27:29.557442Z",
     "iopub.status.busy": "2025-03-08T07:27:29.557068Z",
     "iopub.status.idle": "2025-03-08T07:27:29.562545Z",
     "shell.execute_reply": "2025-03-08T07:27:29.561574Z"
    },
    "papermill": {
     "duration": 0.024565,
     "end_time": "2025-03-08T07:27:29.564157",
     "exception": false,
     "start_time": "2025-03-08T07:27:29.539592",
     "status": "completed"
    },
    "tags": []
   },
   "outputs": [
    {
     "data": {
      "text/plain": [
       "(891, 12)"
      ]
     },
     "execution_count": 5,
     "metadata": {},
     "output_type": "execute_result"
    }
   ],
   "source": [
    "train.shape"
   ]
  },
  {
   "cell_type": "code",
   "execution_count": 6,
   "id": "f5ff81d4",
   "metadata": {
    "execution": {
     "iopub.execute_input": "2025-03-08T07:27:29.599041Z",
     "iopub.status.busy": "2025-03-08T07:27:29.598705Z",
     "iopub.status.idle": "2025-03-08T07:27:29.604374Z",
     "shell.execute_reply": "2025-03-08T07:27:29.603328Z"
    },
    "papermill": {
     "duration": 0.024796,
     "end_time": "2025-03-08T07:27:29.605961",
     "exception": false,
     "start_time": "2025-03-08T07:27:29.581165",
     "status": "completed"
    },
    "tags": []
   },
   "outputs": [
    {
     "data": {
      "text/plain": [
       "(418, 11)"
      ]
     },
     "execution_count": 6,
     "metadata": {},
     "output_type": "execute_result"
    }
   ],
   "source": [
    "test.shape"
   ]
  },
  {
   "cell_type": "code",
   "execution_count": 7,
   "id": "aa66ede9",
   "metadata": {
    "execution": {
     "iopub.execute_input": "2025-03-08T07:27:29.642074Z",
     "iopub.status.busy": "2025-03-08T07:27:29.641740Z",
     "iopub.status.idle": "2025-03-08T07:27:29.667202Z",
     "shell.execute_reply": "2025-03-08T07:27:29.665887Z"
    },
    "papermill": {
     "duration": 0.046125,
     "end_time": "2025-03-08T07:27:29.669250",
     "exception": false,
     "start_time": "2025-03-08T07:27:29.623125",
     "status": "completed"
    },
    "tags": []
   },
   "outputs": [
    {
     "name": "stdout",
     "output_type": "stream",
     "text": [
      "<class 'pandas.core.frame.DataFrame'>\n",
      "RangeIndex: 891 entries, 0 to 890\n",
      "Data columns (total 12 columns):\n",
      " #   Column       Non-Null Count  Dtype  \n",
      "---  ------       --------------  -----  \n",
      " 0   PassengerId  891 non-null    int64  \n",
      " 1   Survived     891 non-null    int64  \n",
      " 2   Pclass       891 non-null    int64  \n",
      " 3   Name         891 non-null    object \n",
      " 4   Sex          891 non-null    object \n",
      " 5   Age          714 non-null    float64\n",
      " 6   SibSp        891 non-null    int64  \n",
      " 7   Parch        891 non-null    int64  \n",
      " 8   Ticket       891 non-null    object \n",
      " 9   Fare         891 non-null    float64\n",
      " 10  Cabin        204 non-null    object \n",
      " 11  Embarked     889 non-null    object \n",
      "dtypes: float64(2), int64(5), object(5)\n",
      "memory usage: 83.7+ KB\n"
     ]
    }
   ],
   "source": [
    "# Checking for Data Formats\n",
    "\n",
    "train.info()"
   ]
  },
  {
   "cell_type": "markdown",
   "id": "af468539",
   "metadata": {
    "papermill": {
     "duration": 0.017187,
     "end_time": "2025-03-08T07:27:29.703748",
     "exception": false,
     "start_time": "2025-03-08T07:27:29.686561",
     "status": "completed"
    },
    "tags": []
   },
   "source": [
    "**Observation:** \n",
    "\n",
    "Categorical Data:\n",
    "1. Name\n",
    "2. Sex\n",
    "3. Ticket\n",
    "4. Cabin\n",
    "5. Embarked\n",
    "\n",
    "Numerical Data:\n",
    "1. PassengerId\n",
    "2. Survived\n",
    "3. Pclass\n",
    "4. Age\n",
    "5. SibSp\n",
    "6. Parch\n",
    "7. Fare"
   ]
  },
  {
   "cell_type": "code",
   "execution_count": 8,
   "id": "05b00a86",
   "metadata": {
    "execution": {
     "iopub.execute_input": "2025-03-08T07:27:29.738787Z",
     "iopub.status.busy": "2025-03-08T07:27:29.738391Z",
     "iopub.status.idle": "2025-03-08T07:27:29.747877Z",
     "shell.execute_reply": "2025-03-08T07:27:29.746747Z"
    },
    "papermill": {
     "duration": 0.029162,
     "end_time": "2025-03-08T07:27:29.749708",
     "exception": false,
     "start_time": "2025-03-08T07:27:29.720546",
     "status": "completed"
    },
    "tags": []
   },
   "outputs": [
    {
     "data": {
      "text/plain": [
       "Survived\n",
       "0    549\n",
       "1    342\n",
       "Name: count, dtype: int64"
      ]
     },
     "execution_count": 8,
     "metadata": {},
     "output_type": "execute_result"
    }
   ],
   "source": [
    "train['Survived'].value_counts()"
   ]
  },
  {
   "cell_type": "markdown",
   "id": "3255d90c",
   "metadata": {
    "papermill": {
     "duration": 0.018183,
     "end_time": "2025-03-08T07:27:29.785049",
     "exception": false,
     "start_time": "2025-03-08T07:27:29.766866",
     "status": "completed"
    },
    "tags": []
   },
   "source": [
    "**Observation:**\n",
    "\n",
    "0 --> The passenger did not survive (died)\n",
    "\n",
    "1 --> The passenger survived"
   ]
  },
  {
   "cell_type": "markdown",
   "id": "01213ac4",
   "metadata": {
    "papermill": {
     "duration": 0.070757,
     "end_time": "2025-03-08T07:27:29.872848",
     "exception": false,
     "start_time": "2025-03-08T07:27:29.802091",
     "status": "completed"
    },
    "tags": []
   },
   "source": [
    "**Observations:** They are not so much unevenly distributed"
   ]
  },
  {
   "cell_type": "markdown",
   "id": "eecb058a",
   "metadata": {
    "papermill": {
     "duration": 0.016966,
     "end_time": "2025-03-08T07:27:29.906883",
     "exception": false,
     "start_time": "2025-03-08T07:27:29.889917",
     "status": "completed"
    },
    "tags": []
   },
   "source": [
    "## EDA"
   ]
  },
  {
   "cell_type": "markdown",
   "id": "4d2e1b4d",
   "metadata": {
    "papermill": {
     "duration": 0.016507,
     "end_time": "2025-03-08T07:27:29.940358",
     "exception": false,
     "start_time": "2025-03-08T07:27:29.923851",
     "status": "completed"
    },
    "tags": []
   },
   "source": [
    "### Univariate Analysis"
   ]
  },
  {
   "cell_type": "code",
   "execution_count": 9,
   "id": "6d02ad47",
   "metadata": {
    "execution": {
     "iopub.execute_input": "2025-03-08T07:27:29.977182Z",
     "iopub.status.busy": "2025-03-08T07:27:29.976824Z",
     "iopub.status.idle": "2025-03-08T07:27:30.584122Z",
     "shell.execute_reply": "2025-03-08T07:27:30.583070Z"
    },
    "papermill": {
     "duration": 0.628233,
     "end_time": "2025-03-08T07:27:30.586300",
     "exception": false,
     "start_time": "2025-03-08T07:27:29.958067",
     "status": "completed"
    },
    "tags": []
   },
   "outputs": [
    {
     "data": {
      "image/png": "[encoded data removed]",
      "text/plain": [
       "<Figure size 640x480 with 1 Axes>"
      ]
     },
     "metadata": {},
     "output_type": "display_data"
    },
    {
     "data": {
      "image/png": "[encoded data removed]",
      "text/plain": [
       "<Figure size 640x480 with 1 Axes>"
      ]
     },
     "metadata": {},
     "output_type": "display_data"
    },
    {
     "data": {
      "image/png": "[encoded data removed]",
      "text/plain": [
       "<Figure size 640x480 with 1 Axes>"
      ]
     },
     "metadata": {},
     "output_type": "display_data"
    }
   ],
   "source": [
    "#Understanding Categorical Variables \n",
    "\n",
    "# Count plot for 'Sex'\n",
    "sns.countplot(x='Sex', data=train)\n",
    "plt.title('Gender Distribution')\n",
    "plt.show()\n",
    "\n",
    "# Count plot for 'Pclass' (Passenger Class) vs. Survival\n",
    "sns.countplot(x='Pclass', hue='Survived', data=train)\n",
    "plt.title('Passenger Class vs. Survival')\n",
    "plt.show()\n",
    "\n",
    "# Count plot for 'Sex' vs. Survival\n",
    "sns.countplot(x='Sex', hue='Survived', data=train)\n",
    "plt.title('Sex vs. Survival')\n",
    "plt.show()"
   ]
  },
  {
   "cell_type": "markdown",
   "id": "cb5bdedd",
   "metadata": {
    "papermill": {
     "duration": 0.018397,
     "end_time": "2025-03-08T07:27:30.623755",
     "exception": false,
     "start_time": "2025-03-08T07:27:30.605358",
     "status": "completed"
    },
    "tags": []
   },
   "source": [
    "**Observation:** As we can see, the death rate of Passenger class 3 is way too higher than the top class people\n",
    "\n",
    "Also Females were highly saved and majority of the men died"
   ]
  },
  {
   "cell_type": "code",
   "execution_count": 10,
   "id": "7e7b4ba5",
   "metadata": {
    "execution": {
     "iopub.execute_input": "2025-03-08T07:27:30.662575Z",
     "iopub.status.busy": "2025-03-08T07:27:30.662233Z",
     "iopub.status.idle": "2025-03-08T07:27:31.290854Z",
     "shell.execute_reply": "2025-03-08T07:27:31.289675Z"
    },
    "papermill": {
     "duration": 0.649804,
     "end_time": "2025-03-08T07:27:31.292689",
     "exception": false,
     "start_time": "2025-03-08T07:27:30.642885",
     "status": "completed"
    },
    "tags": []
   },
   "outputs": [
    {
     "name": "stderr",
     "output_type": "stream",
     "text": [
      "/usr/local/lib/python3.10/dist-packages/seaborn/_oldcore.py:1119: FutureWarning: use_inf_as_na option is deprecated and will be removed in a future version. Convert inf values to NaN before operating instead.\n",
      "  with pd.option_context('mode.use_inf_as_na', True):\n"
     ]
    },
    {
     "data": {
      "image/png": "[encoded data removed]",
      "text/plain": [
       "<Figure size 640x480 with 1 Axes>"
      ]
     },
     "metadata": {},
     "output_type": "display_data"
    },
    {
     "name": "stderr",
     "output_type": "stream",
     "text": [
      "/usr/local/lib/python3.10/dist-packages/seaborn/_oldcore.py:1119: FutureWarning: use_inf_as_na option is deprecated and will be removed in a future version. Convert inf values to NaN before operating instead.\n",
      "  with pd.option_context('mode.use_inf_as_na', True):\n"
     ]
    },
    {
     "data": {
      "image/png": "[encoded data removed]",
      "text/plain": [
       "<Figure size 640x480 with 1 Axes>"
      ]
     },
     "metadata": {},
     "output_type": "display_data"
    }
   ],
   "source": [
    "#Distribution of Numerical Variables \n",
    "\n",
    "# Distribution of 'Age'\n",
    "sns.histplot(train['Age'].dropna(), kde=True)\n",
    "plt.title('Age Distribution with KDE')\n",
    "plt.show()\n",
    "\n",
    "# Distribution of 'Fare'\n",
    "sns.histplot(train['Fare'], kde=True)\n",
    "plt.title('Fare Distribution with KDE')\n",
    "plt.show()"
   ]
  },
  {
   "cell_type": "markdown",
   "id": "84ac8bea",
   "metadata": {
    "papermill": {
     "duration": 0.019392,
     "end_time": "2025-03-08T07:27:31.331777",
     "exception": false,
     "start_time": "2025-03-08T07:27:31.312385",
     "status": "completed"
    },
    "tags": []
   },
   "source": [
    "**Observation:** age mainly ranges between 15-38"
   ]
  },
  {
   "cell_type": "markdown",
   "id": "04197f31",
   "metadata": {
    "papermill": {
     "duration": 0.019623,
     "end_time": "2025-03-08T07:27:31.370943",
     "exception": false,
     "start_time": "2025-03-08T07:27:31.351320",
     "status": "completed"
    },
    "tags": []
   },
   "source": [
    "**Observation:** Fare is right skewed distribution"
   ]
  },
  {
   "cell_type": "markdown",
   "id": "2343c9fd",
   "metadata": {
    "papermill": {
     "duration": 0.018985,
     "end_time": "2025-03-08T07:27:31.409445",
     "exception": false,
     "start_time": "2025-03-08T07:27:31.390460",
     "status": "completed"
    },
    "tags": []
   },
   "source": [
    "### Handling Right-Skewed distribution in fare column"
   ]
  },
  {
   "cell_type": "markdown",
   "id": "f136c1c8",
   "metadata": {
    "papermill": {
     "duration": 0.019028,
     "end_time": "2025-03-08T07:27:31.447844",
     "exception": false,
     "start_time": "2025-03-08T07:27:31.428816",
     "status": "completed"
    },
    "tags": []
   },
   "source": [
    "Using **'Log Transformation'** \n",
    "\n",
    "Reduces Skewness: It compresses the range of values, reducing the effect of large fares while maintaining the relative order of values."
   ]
  },
  {
   "cell_type": "code",
   "execution_count": 11,
   "id": "584091de",
   "metadata": {
    "execution": {
     "iopub.execute_input": "2025-03-08T07:27:31.488121Z",
     "iopub.status.busy": "2025-03-08T07:27:31.487746Z",
     "iopub.status.idle": "2025-03-08T07:27:31.495445Z",
     "shell.execute_reply": "2025-03-08T07:27:31.494504Z"
    },
    "papermill": {
     "duration": 0.030257,
     "end_time": "2025-03-08T07:27:31.497367",
     "exception": false,
     "start_time": "2025-03-08T07:27:31.467110",
     "status": "completed"
    },
    "tags": []
   },
   "outputs": [],
   "source": [
    "train['Fare_log'] = np.log1p(train['Fare'])  # log1p is used to handle zero values as well"
   ]
  },
  {
   "cell_type": "code",
   "execution_count": 12,
   "id": "564381aa",
   "metadata": {
    "execution": {
     "iopub.execute_input": "2025-03-08T07:27:31.537975Z",
     "iopub.status.busy": "2025-03-08T07:27:31.537584Z",
     "iopub.status.idle": "2025-03-08T07:27:31.782420Z",
     "shell.execute_reply": "2025-03-08T07:27:31.781275Z"
    },
    "papermill": {
     "duration": 0.267045,
     "end_time": "2025-03-08T07:27:31.784278",
     "exception": false,
     "start_time": "2025-03-08T07:27:31.517233",
     "status": "completed"
    },
    "tags": []
   },
   "outputs": [
    {
     "name": "stderr",
     "output_type": "stream",
     "text": [
      "/usr/local/lib/python3.10/dist-packages/seaborn/_oldcore.py:1119: FutureWarning: use_inf_as_na option is deprecated and will be removed in a future version. Convert inf values to NaN before operating instead.\n",
      "  with pd.option_context('mode.use_inf_as_na', True):\n"
     ]
    },
    {
     "data": {
      "image/png": "[encoded data removed]",
      "text/plain": [
       "<Figure size 640x480 with 1 Axes>"
      ]
     },
     "metadata": {},
     "output_type": "display_data"
    }
   ],
   "source": [
    "# Distribution of 'Fare'\n",
    "sns.histplot(train['Fare_log'], kde=True)\n",
    "plt.title('Fare Distribution with KDE')\n",
    "plt.show()"
   ]
  },
  {
   "cell_type": "code",
   "execution_count": 13,
   "id": "28c2c3d4",
   "metadata": {
    "execution": {
     "iopub.execute_input": "2025-03-08T07:27:31.828131Z",
     "iopub.status.busy": "2025-03-08T07:27:31.827771Z",
     "iopub.status.idle": "2025-03-08T07:27:32.185908Z",
     "shell.execute_reply": "2025-03-08T07:27:32.184592Z"
    },
    "papermill": {
     "duration": 0.383309,
     "end_time": "2025-03-08T07:27:32.188032",
     "exception": false,
     "start_time": "2025-03-08T07:27:31.804723",
     "status": "completed"
    },
    "tags": []
   },
   "outputs": [
    {
     "data": {
      "image/png": "[encoded data removed]",
      "text/plain": [
       "<Figure size 640x480 with 1 Axes>"
      ]
     },
     "metadata": {},
     "output_type": "display_data"
    },
    {
     "data": {
      "image/png": "[encoded data removed]",
      "text/plain": [
       "<Figure size 640x480 with 1 Axes>"
      ]
     },
     "metadata": {},
     "output_type": "display_data"
    }
   ],
   "source": [
    "#Identifying Outliers\n",
    "\n",
    "# Box plot for 'Age' to check for outliers\n",
    "sns.boxplot(x=train['Age'])\n",
    "plt.title('Box Plot of Age')\n",
    "plt.show()\n",
    "\n",
    "# Box plot for 'Fare' to check for outliers\n",
    "sns.boxplot(x=train['Fare'])\n",
    "plt.title('Box Plot of Fare')\n",
    "plt.show()"
   ]
  },
  {
   "cell_type": "markdown",
   "id": "d7ad89c7",
   "metadata": {
    "papermill": {
     "duration": 0.028273,
     "end_time": "2025-03-08T07:27:32.246652",
     "exception": false,
     "start_time": "2025-03-08T07:27:32.218379",
     "status": "completed"
    },
    "tags": []
   },
   "source": [
    "**Observation:** since the fare has outliers but it will contribute mainly be telling which people paid high as it directly relates 1st class passengers we have handled it by log transformation but we are not going to remove that"
   ]
  },
  {
   "cell_type": "markdown",
   "id": "38f5cecd",
   "metadata": {
    "papermill": {
     "duration": 0.021167,
     "end_time": "2025-03-08T07:27:32.292761",
     "exception": false,
     "start_time": "2025-03-08T07:27:32.271594",
     "status": "completed"
    },
    "tags": []
   },
   "source": [
    "**Observation:** Age: Outliers in the age column are less frequent, but these might also be relevant to survival chances. Rather than removing outliers, we can categorize age into bins, but you might not need to remove extreme ages unless they look unrealistic."
   ]
  },
  {
   "cell_type": "code",
   "execution_count": 14,
   "id": "fd78ea4f",
   "metadata": {
    "execution": {
     "iopub.execute_input": "2025-03-08T07:27:32.336037Z",
     "iopub.status.busy": "2025-03-08T07:27:32.335688Z",
     "iopub.status.idle": "2025-03-08T07:27:32.344862Z",
     "shell.execute_reply": "2025-03-08T07:27:32.343954Z"
    },
    "papermill": {
     "duration": 0.032697,
     "end_time": "2025-03-08T07:27:32.346604",
     "exception": false,
     "start_time": "2025-03-08T07:27:32.313907",
     "status": "completed"
    },
    "tags": []
   },
   "outputs": [],
   "source": [
    "train['Age_binned'] = pd.cut(train['Age'], bins=[0, 12, 18, 35, 60, 80], labels=['Child', 'Teen', 'Young Adult', 'Adult', 'Senior'])"
   ]
  },
  {
   "cell_type": "code",
   "execution_count": 15,
   "id": "f95e0caa",
   "metadata": {
    "execution": {
     "iopub.execute_input": "2025-03-08T07:27:32.390483Z",
     "iopub.status.busy": "2025-03-08T07:27:32.390127Z",
     "iopub.status.idle": "2025-03-08T07:27:32.397161Z",
     "shell.execute_reply": "2025-03-08T07:27:32.396022Z"
    },
    "papermill": {
     "duration": 0.031441,
     "end_time": "2025-03-08T07:27:32.398828",
     "exception": false,
     "start_time": "2025-03-08T07:27:32.367387",
     "status": "completed"
    },
    "tags": []
   },
   "outputs": [],
   "source": [
    "train.drop(['Age'], axis = 1, inplace = True)"
   ]
  },
  {
   "cell_type": "code",
   "execution_count": 16,
   "id": "203931da",
   "metadata": {
    "execution": {
     "iopub.execute_input": "2025-03-08T07:27:32.441521Z",
     "iopub.status.busy": "2025-03-08T07:27:32.441157Z",
     "iopub.status.idle": "2025-03-08T07:27:32.446237Z",
     "shell.execute_reply": "2025-03-08T07:27:32.445362Z"
    },
    "papermill": {
     "duration": 0.028249,
     "end_time": "2025-03-08T07:27:32.447786",
     "exception": false,
     "start_time": "2025-03-08T07:27:32.419537",
     "status": "completed"
    },
    "tags": []
   },
   "outputs": [],
   "source": [
    "train.drop(['Fare'], axis=1, inplace = True)"
   ]
  },
  {
   "cell_type": "code",
   "execution_count": 17,
   "id": "f1aa89e8",
   "metadata": {
    "execution": {
     "iopub.execute_input": "2025-03-08T07:27:32.501580Z",
     "iopub.status.busy": "2025-03-08T07:27:32.501053Z",
     "iopub.status.idle": "2025-03-08T07:27:32.514600Z",
     "shell.execute_reply": "2025-03-08T07:27:32.513359Z"
    },
    "papermill": {
     "duration": 0.041561,
     "end_time": "2025-03-08T07:27:32.516323",
     "exception": false,
     "start_time": "2025-03-08T07:27:32.474762",
     "status": "completed"
    },
    "tags": []
   },
   "outputs": [
    {
     "data": {
      "text/html": [
       "<div>\n",
       "<style scoped>\n",
       "    .dataframe tbody tr th:only-of-type {\n",
       "        vertical-align: middle;\n",
       "    }\n",
       "\n",
       "    .dataframe tbody tr th {\n",
       "        vertical-align: top;\n",
       "    }\n",
       "\n",
       "    .dataframe thead th {\n",
       "        text-align: right;\n",
       "    }\n",
       "</style>\n",
       "<table border=\"1\" class=\"dataframe\">\n",
       "  <thead>\n",
       "    <tr style=\"text-align: right;\">\n",
       "      <th></th>\n",
       "      <th>PassengerId</th>\n",
       "      <th>Survived</th>\n",
       "      <th>Pclass</th>\n",
       "      <th>Name</th>\n",
       "      <th>Sex</th>\n",
       "      <th>SibSp</th>\n",
       "      <th>Parch</th>\n",
       "      <th>Ticket</th>\n",
       "      <th>Cabin</th>\n",
       "      <th>Embarked</th>\n",
       "      <th>Fare_log</th>\n",
       "      <th>Age_binned</th>\n",
       "    </tr>\n",
       "  </thead>\n",
       "  <tbody>\n",
       "    <tr>\n",
       "      <th>0</th>\n",
       "      <td>1</td>\n",
       "      <td>0</td>\n",
       "      <td>3</td>\n",
       "      <td>Braund, Mr. Owen Harris</td>\n",
       "      <td>male</td>\n",
       "      <td>1</td>\n",
       "      <td>0</td>\n",
       "      <td>A/5 21171</td>\n",
       "      <td>NaN</td>\n",
       "      <td>S</td>\n",
       "      <td>2.110213</td>\n",
       "      <td>Young Adult</td>\n",
       "    </tr>\n",
       "  </tbody>\n",
       "</table>\n",
       "</div>"
      ],
      "text/plain": [
       "   PassengerId  Survived  Pclass                     Name   Sex  SibSp  Parch  \\\n",
       "0            1         0       3  Braund, Mr. Owen Harris  male      1      0   \n",
       "\n",
       "      Ticket Cabin Embarked  Fare_log   Age_binned  \n",
       "0  A/5 21171   NaN        S  2.110213  Young Adult  "
      ]
     },
     "execution_count": 17,
     "metadata": {},
     "output_type": "execute_result"
    }
   ],
   "source": [
    "train.head(1)"
   ]
  },
  {
   "cell_type": "markdown",
   "id": "4f270f4e",
   "metadata": {
    "papermill": {
     "duration": 0.021429,
     "end_time": "2025-03-08T07:27:32.558858",
     "exception": false,
     "start_time": "2025-03-08T07:27:32.537429",
     "status": "completed"
    },
    "tags": []
   },
   "source": [
    "### Bi-Variate"
   ]
  },
  {
   "cell_type": "code",
   "execution_count": 18,
   "id": "512fb0a8",
   "metadata": {
    "execution": {
     "iopub.execute_input": "2025-03-08T07:27:32.603230Z",
     "iopub.status.busy": "2025-03-08T07:27:32.602827Z",
     "iopub.status.idle": "2025-03-08T07:27:32.805667Z",
     "shell.execute_reply": "2025-03-08T07:27:32.804584Z"
    },
    "papermill": {
     "duration": 0.227095,
     "end_time": "2025-03-08T07:27:32.807438",
     "exception": false,
     "start_time": "2025-03-08T07:27:32.580343",
     "status": "completed"
    },
    "tags": []
   },
   "outputs": [
    {
     "data": {
      "image/png": "[encoded data removed]",
      "text/plain": [
       "<Figure size 640x480 with 1 Axes>"
      ]
     },
     "metadata": {},
     "output_type": "display_data"
    }
   ],
   "source": [
    "# Violin plot for 'Fare' vs. 'Survived'\n",
    "sns.violinplot(x='Survived', y='Fare_log', data=train)\n",
    "plt.title('Survived vs Fare')\n",
    "plt.show()"
   ]
  },
  {
   "cell_type": "markdown",
   "id": "b0929501",
   "metadata": {
    "papermill": {
     "duration": 0.025869,
     "end_time": "2025-03-08T07:27:32.857232",
     "exception": false,
     "start_time": "2025-03-08T07:27:32.831363",
     "status": "completed"
    },
    "tags": []
   },
   "source": [
    "**Observation:** by this we can observe that High fared (1st class) passengers survied but low fared died"
   ]
  },
  {
   "cell_type": "markdown",
   "id": "33b44175",
   "metadata": {
    "papermill": {
     "duration": 0.021246,
     "end_time": "2025-03-08T07:27:32.902302",
     "exception": false,
     "start_time": "2025-03-08T07:27:32.881056",
     "status": "completed"
    },
    "tags": []
   },
   "source": [
    "## EDA on Test data"
   ]
  },
  {
   "cell_type": "code",
   "execution_count": 19,
   "id": "83d58687",
   "metadata": {
    "execution": {
     "iopub.execute_input": "2025-03-08T07:27:32.947392Z",
     "iopub.status.busy": "2025-03-08T07:27:32.946997Z",
     "iopub.status.idle": "2025-03-08T07:27:33.083362Z",
     "shell.execute_reply": "2025-03-08T07:27:33.082131Z"
    },
    "papermill": {
     "duration": 0.160987,
     "end_time": "2025-03-08T07:27:33.085162",
     "exception": false,
     "start_time": "2025-03-08T07:27:32.924175",
     "status": "completed"
    },
    "tags": []
   },
   "outputs": [
    {
     "data": {
      "text/plain": [
       "<Axes: xlabel='Fare'>"
      ]
     },
     "execution_count": 19,
     "metadata": {},
     "output_type": "execute_result"
    },
    {
     "data": {
      "image/png": "[encoded data removed]",
      "text/plain": [
       "<Figure size 640x480 with 1 Axes>"
      ]
     },
     "metadata": {},
     "output_type": "display_data"
    }
   ],
   "source": [
    "sns.boxplot(x=test['Fare'])"
   ]
  },
  {
   "cell_type": "code",
   "execution_count": 20,
   "id": "e8a2b80c",
   "metadata": {
    "execution": {
     "iopub.execute_input": "2025-03-08T07:27:33.133459Z",
     "iopub.status.busy": "2025-03-08T07:27:33.133089Z",
     "iopub.status.idle": "2025-03-08T07:27:33.141404Z",
     "shell.execute_reply": "2025-03-08T07:27:33.140389Z"
    },
    "papermill": {
     "duration": 0.034787,
     "end_time": "2025-03-08T07:27:33.143216",
     "exception": false,
     "start_time": "2025-03-08T07:27:33.108429",
     "status": "completed"
    },
    "tags": []
   },
   "outputs": [
    {
     "name": "stderr",
     "output_type": "stream",
     "text": [
      "/usr/local/lib/python3.10/dist-packages/pandas/core/arraylike.py:399: RuntimeWarning: invalid value encountered in log1p\n",
      "  result = getattr(ufunc, method)(*inputs, **kwargs)\n"
     ]
    }
   ],
   "source": [
    "test['Fare_log'] = np.log1p(test['Fare'])  # log1p handles zero values too"
   ]
  },
  {
   "cell_type": "code",
   "execution_count": 21,
   "id": "7592e5b9",
   "metadata": {
    "execution": {
     "iopub.execute_input": "2025-03-08T07:27:33.189069Z",
     "iopub.status.busy": "2025-03-08T07:27:33.188700Z",
     "iopub.status.idle": "2025-03-08T07:27:33.324105Z",
     "shell.execute_reply": "2025-03-08T07:27:33.323007Z"
    },
    "papermill": {
     "duration": 0.160652,
     "end_time": "2025-03-08T07:27:33.325946",
     "exception": false,
     "start_time": "2025-03-08T07:27:33.165294",
     "status": "completed"
    },
    "tags": []
   },
   "outputs": [
    {
     "data": {
      "text/plain": [
       "<Axes: xlabel='Fare_log'>"
      ]
     },
     "execution_count": 21,
     "metadata": {},
     "output_type": "execute_result"
    },
    {
     "data": {
      "image/png": "[encoded data removed]",
      "text/plain": [
       "<Figure size 640x480 with 1 Axes>"
      ]
     },
     "metadata": {},
     "output_type": "display_data"
    }
   ],
   "source": [
    "sns.boxplot(x=test['Fare_log'])"
   ]
  },
  {
   "cell_type": "code",
   "execution_count": 22,
   "id": "a4a51e3f",
   "metadata": {
    "execution": {
     "iopub.execute_input": "2025-03-08T07:27:33.372787Z",
     "iopub.status.busy": "2025-03-08T07:27:33.372363Z",
     "iopub.status.idle": "2025-03-08T07:27:33.377670Z",
     "shell.execute_reply": "2025-03-08T07:27:33.376707Z"
    },
    "papermill": {
     "duration": 0.030268,
     "end_time": "2025-03-08T07:27:33.379416",
     "exception": false,
     "start_time": "2025-03-08T07:27:33.349148",
     "status": "completed"
    },
    "tags": []
   },
   "outputs": [],
   "source": [
    "test.drop(['Fare'], axis=1, inplace = True)"
   ]
  },
  {
   "cell_type": "code",
   "execution_count": 23,
   "id": "e63d5197",
   "metadata": {
    "execution": {
     "iopub.execute_input": "2025-03-08T07:27:33.425741Z",
     "iopub.status.busy": "2025-03-08T07:27:33.425340Z",
     "iopub.status.idle": "2025-03-08T07:27:33.437655Z",
     "shell.execute_reply": "2025-03-08T07:27:33.436807Z"
    },
    "papermill": {
     "duration": 0.036966,
     "end_time": "2025-03-08T07:27:33.439097",
     "exception": false,
     "start_time": "2025-03-08T07:27:33.402131",
     "status": "completed"
    },
    "tags": []
   },
   "outputs": [
    {
     "data": {
      "text/html": [
       "<div>\n",
       "<style scoped>\n",
       "    .dataframe tbody tr th:only-of-type {\n",
       "        vertical-align: middle;\n",
       "    }\n",
       "\n",
       "    .dataframe tbody tr th {\n",
       "        vertical-align: top;\n",
       "    }\n",
       "\n",
       "    .dataframe thead th {\n",
       "        text-align: right;\n",
       "    }\n",
       "</style>\n",
       "<table border=\"1\" class=\"dataframe\">\n",
       "  <thead>\n",
       "    <tr style=\"text-align: right;\">\n",
       "      <th></th>\n",
       "      <th>PassengerId</th>\n",
       "      <th>Pclass</th>\n",
       "      <th>Name</th>\n",
       "      <th>Sex</th>\n",
       "      <th>Age</th>\n",
       "      <th>SibSp</th>\n",
       "      <th>Parch</th>\n",
       "      <th>Ticket</th>\n",
       "      <th>Cabin</th>\n",
       "      <th>Embarked</th>\n",
       "      <th>Fare_log</th>\n",
       "    </tr>\n",
       "  </thead>\n",
       "  <tbody>\n",
       "    <tr>\n",
       "      <th>0</th>\n",
       "      <td>892</td>\n",
       "      <td>3</td>\n",
       "      <td>Kelly, Mr. James</td>\n",
       "      <td>male</td>\n",
       "      <td>34.5</td>\n",
       "      <td>0</td>\n",
       "      <td>0</td>\n",
       "      <td>330911</td>\n",
       "      <td>NaN</td>\n",
       "      <td>Q</td>\n",
       "      <td>2.178064</td>\n",
       "    </tr>\n",
       "  </tbody>\n",
       "</table>\n",
       "</div>"
      ],
      "text/plain": [
       "   PassengerId  Pclass              Name   Sex   Age  SibSp  Parch  Ticket  \\\n",
       "0          892       3  Kelly, Mr. James  male  34.5      0      0  330911   \n",
       "\n",
       "  Cabin Embarked  Fare_log  \n",
       "0   NaN        Q  2.178064  "
      ]
     },
     "execution_count": 23,
     "metadata": {},
     "output_type": "execute_result"
    }
   ],
   "source": [
    "test.head(1)"
   ]
  },
  {
   "cell_type": "code",
   "execution_count": 24,
   "id": "441096ed",
   "metadata": {
    "execution": {
     "iopub.execute_input": "2025-03-08T07:27:33.485073Z",
     "iopub.status.busy": "2025-03-08T07:27:33.484734Z",
     "iopub.status.idle": "2025-03-08T07:27:33.491348Z",
     "shell.execute_reply": "2025-03-08T07:27:33.490416Z"
    },
    "papermill": {
     "duration": 0.031461,
     "end_time": "2025-03-08T07:27:33.492958",
     "exception": false,
     "start_time": "2025-03-08T07:27:33.461497",
     "status": "completed"
    },
    "tags": []
   },
   "outputs": [],
   "source": [
    "test['Age_binned'] = pd.cut(test['Age'], bins=[0, 12, 18, 35, 60, 80], labels=['Child', 'Teen', 'Young Adult', 'Adult', 'Senior'])"
   ]
  },
  {
   "cell_type": "code",
   "execution_count": 25,
   "id": "dfb2e9e9",
   "metadata": {
    "execution": {
     "iopub.execute_input": "2025-03-08T07:27:33.539107Z",
     "iopub.status.busy": "2025-03-08T07:27:33.538734Z",
     "iopub.status.idle": "2025-03-08T07:27:33.543898Z",
     "shell.execute_reply": "2025-03-08T07:27:33.542924Z"
    },
    "papermill": {
     "duration": 0.029926,
     "end_time": "2025-03-08T07:27:33.545478",
     "exception": false,
     "start_time": "2025-03-08T07:27:33.515552",
     "status": "completed"
    },
    "tags": []
   },
   "outputs": [],
   "source": [
    "test.drop(['Age'], axis = 1, inplace = True)"
   ]
  },
  {
   "cell_type": "code",
   "execution_count": 26,
   "id": "2fecb115",
   "metadata": {
    "execution": {
     "iopub.execute_input": "2025-03-08T07:27:33.591954Z",
     "iopub.status.busy": "2025-03-08T07:27:33.591561Z",
     "iopub.status.idle": "2025-03-08T07:27:33.604228Z",
     "shell.execute_reply": "2025-03-08T07:27:33.603148Z"
    },
    "papermill": {
     "duration": 0.037465,
     "end_time": "2025-03-08T07:27:33.605968",
     "exception": false,
     "start_time": "2025-03-08T07:27:33.568503",
     "status": "completed"
    },
    "tags": []
   },
   "outputs": [
    {
     "data": {
      "text/html": [
       "<div>\n",
       "<style scoped>\n",
       "    .dataframe tbody tr th:only-of-type {\n",
       "        vertical-align: middle;\n",
       "    }\n",
       "\n",
       "    .dataframe tbody tr th {\n",
       "        vertical-align: top;\n",
       "    }\n",
       "\n",
       "    .dataframe thead th {\n",
       "        text-align: right;\n",
       "    }\n",
       "</style>\n",
       "<table border=\"1\" class=\"dataframe\">\n",
       "  <thead>\n",
       "    <tr style=\"text-align: right;\">\n",
       "      <th></th>\n",
       "      <th>PassengerId</th>\n",
       "      <th>Pclass</th>\n",
       "      <th>Name</th>\n",
       "      <th>Sex</th>\n",
       "      <th>SibSp</th>\n",
       "      <th>Parch</th>\n",
       "      <th>Ticket</th>\n",
       "      <th>Cabin</th>\n",
       "      <th>Embarked</th>\n",
       "      <th>Fare_log</th>\n",
       "      <th>Age_binned</th>\n",
       "    </tr>\n",
       "  </thead>\n",
       "  <tbody>\n",
       "    <tr>\n",
       "      <th>0</th>\n",
       "      <td>892</td>\n",
       "      <td>3</td>\n",
       "      <td>Kelly, Mr. James</td>\n",
       "      <td>male</td>\n",
       "      <td>0</td>\n",
       "      <td>0</td>\n",
       "      <td>330911</td>\n",
       "      <td>NaN</td>\n",
       "      <td>Q</td>\n",
       "      <td>2.178064</td>\n",
       "      <td>Young Adult</td>\n",
       "    </tr>\n",
       "  </tbody>\n",
       "</table>\n",
       "</div>"
      ],
      "text/plain": [
       "   PassengerId  Pclass              Name   Sex  SibSp  Parch  Ticket Cabin  \\\n",
       "0          892       3  Kelly, Mr. James  male      0      0  330911   NaN   \n",
       "\n",
       "  Embarked  Fare_log   Age_binned  \n",
       "0        Q  2.178064  Young Adult  "
      ]
     },
     "execution_count": 26,
     "metadata": {},
     "output_type": "execute_result"
    }
   ],
   "source": [
    "test.head(1)"
   ]
  },
  {
   "cell_type": "markdown",
   "id": "27ab2e49",
   "metadata": {
    "papermill": {
     "duration": 0.022528,
     "end_time": "2025-03-08T07:27:33.652044",
     "exception": false,
     "start_time": "2025-03-08T07:27:33.629516",
     "status": "completed"
    },
    "tags": []
   },
   "source": [
    "## DATA PRE-PROCESSING"
   ]
  },
  {
   "cell_type": "code",
   "execution_count": 27,
   "id": "823c7d01",
   "metadata": {
    "execution": {
     "iopub.execute_input": "2025-03-08T07:27:33.698129Z",
     "iopub.status.busy": "2025-03-08T07:27:33.697767Z",
     "iopub.status.idle": "2025-03-08T07:27:33.707544Z",
     "shell.execute_reply": "2025-03-08T07:27:33.706332Z"
    },
    "papermill": {
     "duration": 0.034826,
     "end_time": "2025-03-08T07:27:33.709391",
     "exception": false,
     "start_time": "2025-03-08T07:27:33.674565",
     "status": "completed"
    },
    "tags": []
   },
   "outputs": [
    {
     "data": {
      "text/plain": [
       "0"
      ]
     },
     "execution_count": 27,
     "metadata": {},
     "output_type": "execute_result"
    }
   ],
   "source": [
    "# Checking for duplicates\n",
    "\n",
    "train.duplicated().sum()"
   ]
  },
  {
   "cell_type": "code",
   "execution_count": 28,
   "id": "6b961177",
   "metadata": {
    "execution": {
     "iopub.execute_input": "2025-03-08T07:27:33.756773Z",
     "iopub.status.busy": "2025-03-08T07:27:33.756369Z",
     "iopub.status.idle": "2025-03-08T07:27:33.762857Z",
     "shell.execute_reply": "2025-03-08T07:27:33.761754Z"
    },
    "papermill": {
     "duration": 0.03278,
     "end_time": "2025-03-08T07:27:33.764841",
     "exception": false,
     "start_time": "2025-03-08T07:27:33.732061",
     "status": "completed"
    },
    "tags": []
   },
   "outputs": [],
   "source": [
    "# Removing unwanted columns\n",
    "\n",
    "train.drop(['PassengerId','Name','Ticket'], axis = 1, inplace = True)\n",
    "\n",
    "test.drop(['PassengerId','Name','Ticket'], axis = 1, inplace = True)"
   ]
  },
  {
   "cell_type": "code",
   "execution_count": 29,
   "id": "45457adc",
   "metadata": {
    "execution": {
     "iopub.execute_input": "2025-03-08T07:27:33.812237Z",
     "iopub.status.busy": "2025-03-08T07:27:33.811858Z",
     "iopub.status.idle": "2025-03-08T07:27:33.819591Z",
     "shell.execute_reply": "2025-03-08T07:27:33.818503Z"
    },
    "papermill": {
     "duration": 0.033614,
     "end_time": "2025-03-08T07:27:33.821324",
     "exception": false,
     "start_time": "2025-03-08T07:27:33.787710",
     "status": "completed"
    },
    "tags": []
   },
   "outputs": [
    {
     "data": {
      "text/plain": [
       "Survived        0\n",
       "Pclass          0\n",
       "Sex             0\n",
       "SibSp           0\n",
       "Parch           0\n",
       "Cabin         687\n",
       "Embarked        2\n",
       "Fare_log        0\n",
       "Age_binned    177\n",
       "dtype: int64"
      ]
     },
     "execution_count": 29,
     "metadata": {},
     "output_type": "execute_result"
    }
   ],
   "source": [
    "# Checking for missing values\n",
    "\n",
    "train.isnull().sum()"
   ]
  },
  {
   "cell_type": "markdown",
   "id": "8f417bad",
   "metadata": {
    "papermill": {
     "duration": 0.022286,
     "end_time": "2025-03-08T07:27:33.866256",
     "exception": false,
     "start_time": "2025-03-08T07:27:33.843970",
     "status": "completed"
    },
    "tags": []
   },
   "source": [
    "**Observation:** In missing features 'Age' is numerical and 'Cabin', 'Embarked' are categorical\n",
    "so, we will use "
   ]
  },
  {
   "cell_type": "code",
   "execution_count": 30,
   "id": "7f7e1a4c",
   "metadata": {
    "execution": {
     "iopub.execute_input": "2025-03-08T07:27:33.912650Z",
     "iopub.status.busy": "2025-03-08T07:27:33.912254Z",
     "iopub.status.idle": "2025-03-08T07:27:33.919374Z",
     "shell.execute_reply": "2025-03-08T07:27:33.918324Z"
    },
    "papermill": {
     "duration": 0.032511,
     "end_time": "2025-03-08T07:27:33.921373",
     "exception": false,
     "start_time": "2025-03-08T07:27:33.888862",
     "status": "completed"
    },
    "tags": []
   },
   "outputs": [],
   "source": [
    "#Handling Categorical missing values with the median imputation methord\n",
    "\n",
    "train['Age_binned'] = train['Age_binned'].fillna(train['Age_binned'].mode()[0])"
   ]
  },
  {
   "cell_type": "code",
   "execution_count": 31,
   "id": "7e2dfddd",
   "metadata": {
    "execution": {
     "iopub.execute_input": "2025-03-08T07:27:33.968669Z",
     "iopub.status.busy": "2025-03-08T07:27:33.968244Z",
     "iopub.status.idle": "2025-03-08T07:27:33.974542Z",
     "shell.execute_reply": "2025-03-08T07:27:33.973553Z"
    },
    "papermill": {
     "duration": 0.031752,
     "end_time": "2025-03-08T07:27:33.976267",
     "exception": false,
     "start_time": "2025-03-08T07:27:33.944515",
     "status": "completed"
    },
    "tags": []
   },
   "outputs": [
    {
     "data": {
      "text/plain": [
       "0"
      ]
     },
     "execution_count": 31,
     "metadata": {},
     "output_type": "execute_result"
    }
   ],
   "source": [
    "# Checking for missing values\n",
    "\n",
    "train['Age_binned'].isnull().sum()"
   ]
  },
  {
   "cell_type": "code",
   "execution_count": 32,
   "id": "cd294c95",
   "metadata": {
    "execution": {
     "iopub.execute_input": "2025-03-08T07:27:34.023994Z",
     "iopub.status.busy": "2025-03-08T07:27:34.023584Z",
     "iopub.status.idle": "2025-03-08T07:27:34.029698Z",
     "shell.execute_reply": "2025-03-08T07:27:34.028548Z"
    },
    "papermill": {
     "duration": 0.031617,
     "end_time": "2025-03-08T07:27:34.031430",
     "exception": false,
     "start_time": "2025-03-08T07:27:33.999813",
     "status": "completed"
    },
    "tags": []
   },
   "outputs": [
    {
     "name": "stderr",
     "output_type": "stream",
     "text": [
      "<ipython-input-32-91a54f157e64>:3: FutureWarning: A value is trying to be set on a copy of a DataFrame or Series through chained assignment using an inplace method.\n",
      "The behavior will change in pandas 3.0. This inplace method will never work because the intermediate object on which we are setting values always behaves as a copy.\n",
      "\n",
      "For example, when doing 'df[col].method(value, inplace=True)', try using 'df.method({col: value}, inplace=True)' or df[col] = df[col].method(value) instead, to perform the operation inplace on the original object.\n",
      "\n",
      "\n",
      "  train['Embarked'].fillna(train['Embarked'].mode()[0], inplace = True)  #Since .mode() returns a Series (even if there is only one mode), [0] is used to access the first mode value from that Series.\n"
     ]
    }
   ],
   "source": [
    "#Handling categorical column 'Embarked' by mode imputation methord \n",
    "\n",
    "train['Embarked'].fillna(train['Embarked'].mode()[0], inplace = True)  #Since .mode() returns a Series (even if there is only one mode), [0] is used to access the first mode value from that Series."
   ]
  },
  {
   "cell_type": "code",
   "execution_count": 33,
   "id": "fb885d65",
   "metadata": {
    "execution": {
     "iopub.execute_input": "2025-03-08T07:27:34.078289Z",
     "iopub.status.busy": "2025-03-08T07:27:34.077965Z",
     "iopub.status.idle": "2025-03-08T07:27:34.084124Z",
     "shell.execute_reply": "2025-03-08T07:27:34.083092Z"
    },
    "papermill": {
     "duration": 0.03138,
     "end_time": "2025-03-08T07:27:34.085741",
     "exception": false,
     "start_time": "2025-03-08T07:27:34.054361",
     "status": "completed"
    },
    "tags": []
   },
   "outputs": [
    {
     "data": {
      "text/plain": [
       "0"
      ]
     },
     "execution_count": 33,
     "metadata": {},
     "output_type": "execute_result"
    }
   ],
   "source": [
    "#checking for missing values\n",
    "\n",
    "train['Embarked'].isnull().sum()"
   ]
  },
  {
   "cell_type": "markdown",
   "id": "d9f5e3d3",
   "metadata": {
    "papermill": {
     "duration": 0.02302,
     "end_time": "2025-03-08T07:27:34.133510",
     "exception": false,
     "start_time": "2025-03-08T07:27:34.110490",
     "status": "completed"
    },
    "tags": []
   },
   "source": [
    "**Observation:** Since the Cabin class has high no of missing values, and we require it, and as we can analyze that it has relationship with Pclass we will 1st take the cabin value(deck) and analyze wrt pclass to impute cabin missing values"
   ]
  },
  {
   "cell_type": "code",
   "execution_count": 34,
   "id": "0228170e",
   "metadata": {
    "execution": {
     "iopub.execute_input": "2025-03-08T07:27:34.181097Z",
     "iopub.status.busy": "2025-03-08T07:27:34.180728Z",
     "iopub.status.idle": "2025-03-08T07:27:34.186362Z",
     "shell.execute_reply": "2025-03-08T07:27:34.185296Z"
    },
    "papermill": {
     "duration": 0.031248,
     "end_time": "2025-03-08T07:27:34.187986",
     "exception": false,
     "start_time": "2025-03-08T07:27:34.156738",
     "status": "completed"
    },
    "tags": []
   },
   "outputs": [],
   "source": [
    "train['Deck'] = train['Cabin'].str[0]"
   ]
  },
  {
   "cell_type": "code",
   "execution_count": 35,
   "id": "d96f4b97",
   "metadata": {
    "execution": {
     "iopub.execute_input": "2025-03-08T07:27:34.235442Z",
     "iopub.status.busy": "2025-03-08T07:27:34.235092Z",
     "iopub.status.idle": "2025-03-08T07:27:34.246225Z",
     "shell.execute_reply": "2025-03-08T07:27:34.244950Z"
    },
    "papermill": {
     "duration": 0.037092,
     "end_time": "2025-03-08T07:27:34.248085",
     "exception": false,
     "start_time": "2025-03-08T07:27:34.210993",
     "status": "completed"
    },
    "tags": []
   },
   "outputs": [
    {
     "data": {
      "text/plain": [
       "Pclass  Deck\n",
       "1       C       59\n",
       "        B       47\n",
       "        D       29\n",
       "        E       25\n",
       "        A       15\n",
       "        T        1\n",
       "2       F        8\n",
       "        D        4\n",
       "        E        4\n",
       "3       F        5\n",
       "        G        4\n",
       "        E        3\n",
       "Name: count, dtype: int64"
      ]
     },
     "execution_count": 35,
     "metadata": {},
     "output_type": "execute_result"
    }
   ],
   "source": [
    "train.groupby('Pclass')['Deck'].value_counts()"
   ]
  },
  {
   "cell_type": "code",
   "execution_count": 36,
   "id": "5b82b927",
   "metadata": {
    "execution": {
     "iopub.execute_input": "2025-03-08T07:27:34.296231Z",
     "iopub.status.busy": "2025-03-08T07:27:34.295886Z",
     "iopub.status.idle": "2025-03-08T07:27:34.305392Z",
     "shell.execute_reply": "2025-03-08T07:27:34.304330Z"
    },
    "papermill": {
     "duration": 0.035942,
     "end_time": "2025-03-08T07:27:34.307315",
     "exception": false,
     "start_time": "2025-03-08T07:27:34.271373",
     "status": "completed"
    },
    "tags": []
   },
   "outputs": [],
   "source": [
    "train['Deck'] = train.groupby('Pclass')['Deck'].transform(lambda x:x.fillna(x.mode()[0]))"
   ]
  },
  {
   "cell_type": "code",
   "execution_count": 37,
   "id": "e078ee47",
   "metadata": {
    "execution": {
     "iopub.execute_input": "2025-03-08T07:27:34.354801Z",
     "iopub.status.busy": "2025-03-08T07:27:34.354396Z",
     "iopub.status.idle": "2025-03-08T07:27:34.360747Z",
     "shell.execute_reply": "2025-03-08T07:27:34.359759Z"
    },
    "papermill": {
     "duration": 0.031964,
     "end_time": "2025-03-08T07:27:34.362425",
     "exception": false,
     "start_time": "2025-03-08T07:27:34.330461",
     "status": "completed"
    },
    "tags": []
   },
   "outputs": [
    {
     "data": {
      "text/plain": [
       "0"
      ]
     },
     "execution_count": 37,
     "metadata": {},
     "output_type": "execute_result"
    }
   ],
   "source": [
    "train['Deck'].isnull().sum()"
   ]
  },
  {
   "cell_type": "code",
   "execution_count": 38,
   "id": "4b7aa25e",
   "metadata": {
    "execution": {
     "iopub.execute_input": "2025-03-08T07:27:34.410401Z",
     "iopub.status.busy": "2025-03-08T07:27:34.410050Z",
     "iopub.status.idle": "2025-03-08T07:27:34.415222Z",
     "shell.execute_reply": "2025-03-08T07:27:34.414237Z"
    },
    "papermill": {
     "duration": 0.031283,
     "end_time": "2025-03-08T07:27:34.416887",
     "exception": false,
     "start_time": "2025-03-08T07:27:34.385604",
     "status": "completed"
    },
    "tags": []
   },
   "outputs": [],
   "source": [
    "train.drop(['Cabin'], axis = 1, inplace = True)"
   ]
  },
  {
   "cell_type": "code",
   "execution_count": 39,
   "id": "825497de",
   "metadata": {
    "execution": {
     "iopub.execute_input": "2025-03-08T07:27:34.465029Z",
     "iopub.status.busy": "2025-03-08T07:27:34.464656Z",
     "iopub.status.idle": "2025-03-08T07:27:34.476744Z",
     "shell.execute_reply": "2025-03-08T07:27:34.475696Z"
    },
    "papermill": {
     "duration": 0.037823,
     "end_time": "2025-03-08T07:27:34.478396",
     "exception": false,
     "start_time": "2025-03-08T07:27:34.440573",
     "status": "completed"
    },
    "tags": []
   },
   "outputs": [
    {
     "data": {
      "text/html": [
       "<div>\n",
       "<style scoped>\n",
       "    .dataframe tbody tr th:only-of-type {\n",
       "        vertical-align: middle;\n",
       "    }\n",
       "\n",
       "    .dataframe tbody tr th {\n",
       "        vertical-align: top;\n",
       "    }\n",
       "\n",
       "    .dataframe thead th {\n",
       "        text-align: right;\n",
       "    }\n",
       "</style>\n",
       "<table border=\"1\" class=\"dataframe\">\n",
       "  <thead>\n",
       "    <tr style=\"text-align: right;\">\n",
       "      <th></th>\n",
       "      <th>Survived</th>\n",
       "      <th>Pclass</th>\n",
       "      <th>Sex</th>\n",
       "      <th>SibSp</th>\n",
       "      <th>Parch</th>\n",
       "      <th>Embarked</th>\n",
       "      <th>Fare_log</th>\n",
       "      <th>Age_binned</th>\n",
       "      <th>Deck</th>\n",
       "    </tr>\n",
       "  </thead>\n",
       "  <tbody>\n",
       "    <tr>\n",
       "      <th>0</th>\n",
       "      <td>0</td>\n",
       "      <td>3</td>\n",
       "      <td>male</td>\n",
       "      <td>1</td>\n",
       "      <td>0</td>\n",
       "      <td>S</td>\n",
       "      <td>2.110213</td>\n",
       "      <td>Young Adult</td>\n",
       "      <td>F</td>\n",
       "    </tr>\n",
       "    <tr>\n",
       "      <th>1</th>\n",
       "      <td>1</td>\n",
       "      <td>1</td>\n",
       "      <td>female</td>\n",
       "      <td>1</td>\n",
       "      <td>0</td>\n",
       "      <td>C</td>\n",
       "      <td>4.280593</td>\n",
       "      <td>Adult</td>\n",
       "      <td>C</td>\n",
       "    </tr>\n",
       "    <tr>\n",
       "      <th>2</th>\n",
       "      <td>1</td>\n",
       "      <td>3</td>\n",
       "      <td>female</td>\n",
       "      <td>0</td>\n",
       "      <td>0</td>\n",
       "      <td>S</td>\n",
       "      <td>2.188856</td>\n",
       "      <td>Young Adult</td>\n",
       "      <td>F</td>\n",
       "    </tr>\n",
       "    <tr>\n",
       "      <th>3</th>\n",
       "      <td>1</td>\n",
       "      <td>1</td>\n",
       "      <td>female</td>\n",
       "      <td>1</td>\n",
       "      <td>0</td>\n",
       "      <td>S</td>\n",
       "      <td>3.990834</td>\n",
       "      <td>Young Adult</td>\n",
       "      <td>C</td>\n",
       "    </tr>\n",
       "    <tr>\n",
       "      <th>4</th>\n",
       "      <td>0</td>\n",
       "      <td>3</td>\n",
       "      <td>male</td>\n",
       "      <td>0</td>\n",
       "      <td>0</td>\n",
       "      <td>S</td>\n",
       "      <td>2.202765</td>\n",
       "      <td>Young Adult</td>\n",
       "      <td>F</td>\n",
       "    </tr>\n",
       "  </tbody>\n",
       "</table>\n",
       "</div>"
      ],
      "text/plain": [
       "   Survived  Pclass     Sex  SibSp  Parch Embarked  Fare_log   Age_binned Deck\n",
       "0         0       3    male      1      0        S  2.110213  Young Adult    F\n",
       "1         1       1  female      1      0        C  4.280593        Adult    C\n",
       "2         1       3  female      0      0        S  2.188856  Young Adult    F\n",
       "3         1       1  female      1      0        S  3.990834  Young Adult    C\n",
       "4         0       3    male      0      0        S  2.202765  Young Adult    F"
      ]
     },
     "execution_count": 39,
     "metadata": {},
     "output_type": "execute_result"
    }
   ],
   "source": [
    "train.head()"
   ]
  },
  {
   "cell_type": "code",
   "execution_count": 40,
   "id": "38d584d7",
   "metadata": {
    "execution": {
     "iopub.execute_input": "2025-03-08T07:27:34.526303Z",
     "iopub.status.busy": "2025-03-08T07:27:34.525918Z",
     "iopub.status.idle": "2025-03-08T07:27:34.533142Z",
     "shell.execute_reply": "2025-03-08T07:27:34.532177Z"
    },
    "papermill": {
     "duration": 0.032803,
     "end_time": "2025-03-08T07:27:34.534581",
     "exception": false,
     "start_time": "2025-03-08T07:27:34.501778",
     "status": "completed"
    },
    "tags": []
   },
   "outputs": [
    {
     "data": {
      "text/plain": [
       "Pclass          0\n",
       "Sex             0\n",
       "SibSp           0\n",
       "Parch           0\n",
       "Cabin         327\n",
       "Embarked        0\n",
       "Fare_log        1\n",
       "Age_binned     86\n",
       "dtype: int64"
      ]
     },
     "execution_count": 40,
     "metadata": {},
     "output_type": "execute_result"
    }
   ],
   "source": [
    "# Missing values in test data\n",
    "\n",
    "test.isnull().sum()"
   ]
  },
  {
   "cell_type": "code",
   "execution_count": 41,
   "id": "da9ac112",
   "metadata": {
    "execution": {
     "iopub.execute_input": "2025-03-08T07:27:34.582825Z",
     "iopub.status.busy": "2025-03-08T07:27:34.582434Z",
     "iopub.status.idle": "2025-03-08T07:27:34.587653Z",
     "shell.execute_reply": "2025-03-08T07:27:34.586602Z"
    },
    "papermill": {
     "duration": 0.031139,
     "end_time": "2025-03-08T07:27:34.589263",
     "exception": false,
     "start_time": "2025-03-08T07:27:34.558124",
     "status": "completed"
    },
    "tags": []
   },
   "outputs": [],
   "source": [
    "# Handling Age column\n",
    "\n",
    "test['Age_binned'] = test['Age_binned'].fillna(test['Age_binned'].mode()[0])"
   ]
  },
  {
   "cell_type": "code",
   "execution_count": 42,
   "id": "05df3430",
   "metadata": {
    "execution": {
     "iopub.execute_input": "2025-03-08T07:27:34.637761Z",
     "iopub.status.busy": "2025-03-08T07:27:34.637360Z",
     "iopub.status.idle": "2025-03-08T07:27:34.643519Z",
     "shell.execute_reply": "2025-03-08T07:27:34.642694Z"
    },
    "papermill": {
     "duration": 0.032607,
     "end_time": "2025-03-08T07:27:34.645156",
     "exception": false,
     "start_time": "2025-03-08T07:27:34.612549",
     "status": "completed"
    },
    "tags": []
   },
   "outputs": [
    {
     "data": {
      "text/plain": [
       "0"
      ]
     },
     "execution_count": 42,
     "metadata": {},
     "output_type": "execute_result"
    }
   ],
   "source": [
    "test['Age_binned'].isnull().sum()"
   ]
  },
  {
   "cell_type": "code",
   "execution_count": 43,
   "id": "19459885",
   "metadata": {
    "execution": {
     "iopub.execute_input": "2025-03-08T07:27:34.693881Z",
     "iopub.status.busy": "2025-03-08T07:27:34.693505Z",
     "iopub.status.idle": "2025-03-08T07:27:34.701291Z",
     "shell.execute_reply": "2025-03-08T07:27:34.700278Z"
    },
    "papermill": {
     "duration": 0.034219,
     "end_time": "2025-03-08T07:27:34.703106",
     "exception": false,
     "start_time": "2025-03-08T07:27:34.668887",
     "status": "completed"
    },
    "tags": []
   },
   "outputs": [],
   "source": [
    "# Handling fare missing values\n",
    "\n",
    "median_fare = test.groupby(['Pclass','Embarked'])['Fare_log'].median()"
   ]
  },
  {
   "cell_type": "code",
   "execution_count": 44,
   "id": "245e1098",
   "metadata": {
    "execution": {
     "iopub.execute_input": "2025-03-08T07:27:34.751966Z",
     "iopub.status.busy": "2025-03-08T07:27:34.751570Z",
     "iopub.status.idle": "2025-03-08T07:27:34.767701Z",
     "shell.execute_reply": "2025-03-08T07:27:34.766775Z"
    },
    "papermill": {
     "duration": 0.042533,
     "end_time": "2025-03-08T07:27:34.769218",
     "exception": false,
     "start_time": "2025-03-08T07:27:34.726685",
     "status": "completed"
    },
    "tags": []
   },
   "outputs": [],
   "source": [
    "test['Fare_log'] = test.apply(\n",
    "    lambda row: median_fare[row['Pclass'], row['Embarked']] if pd.isnull(row['Fare_log']) else row['Fare_log'],\n",
    "    axis=1\n",
    ")"
   ]
  },
  {
   "cell_type": "code",
   "execution_count": 45,
   "id": "f3c6c277",
   "metadata": {
    "execution": {
     "iopub.execute_input": "2025-03-08T07:27:34.817970Z",
     "iopub.status.busy": "2025-03-08T07:27:34.817581Z",
     "iopub.status.idle": "2025-03-08T07:27:34.823914Z",
     "shell.execute_reply": "2025-03-08T07:27:34.823017Z"
    },
    "papermill": {
     "duration": 0.032579,
     "end_time": "2025-03-08T07:27:34.825700",
     "exception": false,
     "start_time": "2025-03-08T07:27:34.793121",
     "status": "completed"
    },
    "tags": []
   },
   "outputs": [
    {
     "data": {
      "text/plain": [
       "0"
      ]
     },
     "execution_count": 45,
     "metadata": {},
     "output_type": "execute_result"
    }
   ],
   "source": [
    "test['Fare_log'].isnull().sum()"
   ]
  },
  {
   "cell_type": "code",
   "execution_count": 46,
   "id": "73bd7bc4",
   "metadata": {
    "execution": {
     "iopub.execute_input": "2025-03-08T07:27:34.874834Z",
     "iopub.status.busy": "2025-03-08T07:27:34.874463Z",
     "iopub.status.idle": "2025-03-08T07:27:34.879940Z",
     "shell.execute_reply": "2025-03-08T07:27:34.878731Z"
    },
    "papermill": {
     "duration": 0.03226,
     "end_time": "2025-03-08T07:27:34.881901",
     "exception": false,
     "start_time": "2025-03-08T07:27:34.849641",
     "status": "completed"
    },
    "tags": []
   },
   "outputs": [],
   "source": [
    "#Handling the Cabin column\n",
    "\n",
    "test['Deck'] = test['Cabin'].str[0]"
   ]
  },
  {
   "cell_type": "code",
   "execution_count": 47,
   "id": "271893cc",
   "metadata": {
    "execution": {
     "iopub.execute_input": "2025-03-08T07:27:34.933153Z",
     "iopub.status.busy": "2025-03-08T07:27:34.932785Z",
     "iopub.status.idle": "2025-03-08T07:27:34.944055Z",
     "shell.execute_reply": "2025-03-08T07:27:34.942992Z"
    },
    "papermill": {
     "duration": 0.038811,
     "end_time": "2025-03-08T07:27:34.945923",
     "exception": false,
     "start_time": "2025-03-08T07:27:34.907112",
     "status": "completed"
    },
    "tags": []
   },
   "outputs": [
    {
     "data": {
      "text/plain": [
       "Pclass  Deck\n",
       "1       C       35\n",
       "        B       18\n",
       "        D       11\n",
       "        E        9\n",
       "        A        7\n",
       "2       F        5\n",
       "        D        2\n",
       "3       F        3\n",
       "        G        1\n",
       "Name: count, dtype: int64"
      ]
     },
     "execution_count": 47,
     "metadata": {},
     "output_type": "execute_result"
    }
   ],
   "source": [
    "test.groupby('Pclass')['Deck'].value_counts()"
   ]
  },
  {
   "cell_type": "code",
   "execution_count": 48,
   "id": "a1957fca",
   "metadata": {
    "execution": {
     "iopub.execute_input": "2025-03-08T07:27:34.995711Z",
     "iopub.status.busy": "2025-03-08T07:27:34.995323Z",
     "iopub.status.idle": "2025-03-08T07:27:35.006102Z",
     "shell.execute_reply": "2025-03-08T07:27:35.004979Z"
    },
    "papermill": {
     "duration": 0.038043,
     "end_time": "2025-03-08T07:27:35.007979",
     "exception": false,
     "start_time": "2025-03-08T07:27:34.969936",
     "status": "completed"
    },
    "tags": []
   },
   "outputs": [],
   "source": [
    "test['Deck'] = test.groupby('Pclass')['Deck'].transform(lambda x: x.fillna(x.mode()[0]))"
   ]
  },
  {
   "cell_type": "code",
   "execution_count": 49,
   "id": "72b888f9",
   "metadata": {
    "execution": {
     "iopub.execute_input": "2025-03-08T07:27:35.060361Z",
     "iopub.status.busy": "2025-03-08T07:27:35.059985Z",
     "iopub.status.idle": "2025-03-08T07:27:35.066324Z",
     "shell.execute_reply": "2025-03-08T07:27:35.065371Z"
    },
    "papermill": {
     "duration": 0.03423,
     "end_time": "2025-03-08T07:27:35.068042",
     "exception": false,
     "start_time": "2025-03-08T07:27:35.033812",
     "status": "completed"
    },
    "tags": []
   },
   "outputs": [
    {
     "data": {
      "text/plain": [
       "0"
      ]
     },
     "execution_count": 49,
     "metadata": {},
     "output_type": "execute_result"
    }
   ],
   "source": [
    "test['Deck'].isnull().sum()"
   ]
  },
  {
   "cell_type": "code",
   "execution_count": 50,
   "id": "5fbb4190",
   "metadata": {
    "execution": {
     "iopub.execute_input": "2025-03-08T07:27:35.120174Z",
     "iopub.status.busy": "2025-03-08T07:27:35.119799Z",
     "iopub.status.idle": "2025-03-08T07:27:35.125771Z",
     "shell.execute_reply": "2025-03-08T07:27:35.124542Z"
    },
    "papermill": {
     "duration": 0.034723,
     "end_time": "2025-03-08T07:27:35.127583",
     "exception": false,
     "start_time": "2025-03-08T07:27:35.092860",
     "status": "completed"
    },
    "tags": []
   },
   "outputs": [],
   "source": [
    "test.drop('Cabin', axis=1, inplace=True)"
   ]
  },
  {
   "cell_type": "code",
   "execution_count": 51,
   "id": "c1ed103b",
   "metadata": {
    "execution": {
     "iopub.execute_input": "2025-03-08T07:27:35.178078Z",
     "iopub.status.busy": "2025-03-08T07:27:35.177727Z",
     "iopub.status.idle": "2025-03-08T07:27:35.189065Z",
     "shell.execute_reply": "2025-03-08T07:27:35.188226Z"
    },
    "papermill": {
     "duration": 0.037581,
     "end_time": "2025-03-08T07:27:35.190597",
     "exception": false,
     "start_time": "2025-03-08T07:27:35.153016",
     "status": "completed"
    },
    "tags": []
   },
   "outputs": [
    {
     "data": {
      "text/html": [
       "<div>\n",
       "<style scoped>\n",
       "    .dataframe tbody tr th:only-of-type {\n",
       "        vertical-align: middle;\n",
       "    }\n",
       "\n",
       "    .dataframe tbody tr th {\n",
       "        vertical-align: top;\n",
       "    }\n",
       "\n",
       "    .dataframe thead th {\n",
       "        text-align: right;\n",
       "    }\n",
       "</style>\n",
       "<table border=\"1\" class=\"dataframe\">\n",
       "  <thead>\n",
       "    <tr style=\"text-align: right;\">\n",
       "      <th></th>\n",
       "      <th>Pclass</th>\n",
       "      <th>Sex</th>\n",
       "      <th>SibSp</th>\n",
       "      <th>Parch</th>\n",
       "      <th>Embarked</th>\n",
       "      <th>Fare_log</th>\n",
       "      <th>Age_binned</th>\n",
       "      <th>Deck</th>\n",
       "    </tr>\n",
       "  </thead>\n",
       "  <tbody>\n",
       "    <tr>\n",
       "      <th>0</th>\n",
       "      <td>3</td>\n",
       "      <td>male</td>\n",
       "      <td>0</td>\n",
       "      <td>0</td>\n",
       "      <td>Q</td>\n",
       "      <td>2.178064</td>\n",
       "      <td>Young Adult</td>\n",
       "      <td>F</td>\n",
       "    </tr>\n",
       "    <tr>\n",
       "      <th>1</th>\n",
       "      <td>3</td>\n",
       "      <td>female</td>\n",
       "      <td>1</td>\n",
       "      <td>0</td>\n",
       "      <td>S</td>\n",
       "      <td>2.079442</td>\n",
       "      <td>Adult</td>\n",
       "      <td>F</td>\n",
       "    </tr>\n",
       "    <tr>\n",
       "      <th>2</th>\n",
       "      <td>2</td>\n",
       "      <td>male</td>\n",
       "      <td>0</td>\n",
       "      <td>0</td>\n",
       "      <td>Q</td>\n",
       "      <td>2.369075</td>\n",
       "      <td>Senior</td>\n",
       "      <td>F</td>\n",
       "    </tr>\n",
       "    <tr>\n",
       "      <th>3</th>\n",
       "      <td>3</td>\n",
       "      <td>male</td>\n",
       "      <td>0</td>\n",
       "      <td>0</td>\n",
       "      <td>S</td>\n",
       "      <td>2.268252</td>\n",
       "      <td>Young Adult</td>\n",
       "      <td>F</td>\n",
       "    </tr>\n",
       "    <tr>\n",
       "      <th>4</th>\n",
       "      <td>3</td>\n",
       "      <td>female</td>\n",
       "      <td>1</td>\n",
       "      <td>1</td>\n",
       "      <td>S</td>\n",
       "      <td>2.586824</td>\n",
       "      <td>Young Adult</td>\n",
       "      <td>F</td>\n",
       "    </tr>\n",
       "  </tbody>\n",
       "</table>\n",
       "</div>"
      ],
      "text/plain": [
       "   Pclass     Sex  SibSp  Parch Embarked  Fare_log   Age_binned Deck\n",
       "0       3    male      0      0        Q  2.178064  Young Adult    F\n",
       "1       3  female      1      0        S  2.079442        Adult    F\n",
       "2       2    male      0      0        Q  2.369075       Senior    F\n",
       "3       3    male      0      0        S  2.268252  Young Adult    F\n",
       "4       3  female      1      1        S  2.586824  Young Adult    F"
      ]
     },
     "execution_count": 51,
     "metadata": {},
     "output_type": "execute_result"
    }
   ],
   "source": [
    "test.head()"
   ]
  },
  {
   "cell_type": "code",
   "execution_count": 52,
   "id": "69d4314f",
   "metadata": {
    "execution": {
     "iopub.execute_input": "2025-03-08T07:27:35.240227Z",
     "iopub.status.busy": "2025-03-08T07:27:35.239849Z",
     "iopub.status.idle": "2025-03-08T07:27:35.247907Z",
     "shell.execute_reply": "2025-03-08T07:27:35.246755Z"
    },
    "papermill": {
     "duration": 0.034721,
     "end_time": "2025-03-08T07:27:35.249938",
     "exception": false,
     "start_time": "2025-03-08T07:27:35.215217",
     "status": "completed"
    },
    "tags": []
   },
   "outputs": [
    {
     "data": {
      "text/plain": [
       "Survived      0\n",
       "Pclass        0\n",
       "Sex           0\n",
       "SibSp         0\n",
       "Parch         0\n",
       "Embarked      0\n",
       "Fare_log      0\n",
       "Age_binned    0\n",
       "Deck          0\n",
       "dtype: int64"
      ]
     },
     "execution_count": 52,
     "metadata": {},
     "output_type": "execute_result"
    }
   ],
   "source": [
    "# comfirming there are no more missing values\n",
    "\n",
    "train.isnull().sum()"
   ]
  },
  {
   "cell_type": "code",
   "execution_count": 53,
   "id": "1097159a",
   "metadata": {
    "execution": {
     "iopub.execute_input": "2025-03-08T07:27:35.301326Z",
     "iopub.status.busy": "2025-03-08T07:27:35.300931Z",
     "iopub.status.idle": "2025-03-08T07:27:35.308861Z",
     "shell.execute_reply": "2025-03-08T07:27:35.307635Z"
    },
    "papermill": {
     "duration": 0.034774,
     "end_time": "2025-03-08T07:27:35.310558",
     "exception": false,
     "start_time": "2025-03-08T07:27:35.275784",
     "status": "completed"
    },
    "tags": []
   },
   "outputs": [
    {
     "data": {
      "text/plain": [
       "Pclass        0\n",
       "Sex           0\n",
       "SibSp         0\n",
       "Parch         0\n",
       "Embarked      0\n",
       "Fare_log      0\n",
       "Age_binned    0\n",
       "Deck          0\n",
       "dtype: int64"
      ]
     },
     "execution_count": 53,
     "metadata": {},
     "output_type": "execute_result"
    }
   ],
   "source": [
    "test.isnull().sum()"
   ]
  },
  {
   "cell_type": "markdown",
   "id": "49043146",
   "metadata": {
    "papermill": {
     "duration": 0.023961,
     "end_time": "2025-03-08T07:27:35.359324",
     "exception": false,
     "start_time": "2025-03-08T07:27:35.335363",
     "status": "completed"
    },
    "tags": []
   },
   "source": [
    "## TRAIN TEST SPLIT"
   ]
  },
  {
   "cell_type": "code",
   "execution_count": 54,
   "id": "c337d2de",
   "metadata": {
    "execution": {
     "iopub.execute_input": "2025-03-08T07:27:35.409457Z",
     "iopub.status.busy": "2025-03-08T07:27:35.409077Z",
     "iopub.status.idle": "2025-03-08T07:27:35.414433Z",
     "shell.execute_reply": "2025-03-08T07:27:35.413459Z"
    },
    "papermill": {
     "duration": 0.032566,
     "end_time": "2025-03-08T07:27:35.416087",
     "exception": false,
     "start_time": "2025-03-08T07:27:35.383521",
     "status": "completed"
    },
    "tags": []
   },
   "outputs": [],
   "source": [
    "X_train = train.drop(columns=['Survived']) \n",
    "y_train = train['Survived']"
   ]
  },
  {
   "cell_type": "code",
   "execution_count": 55,
   "id": "6fbb1654",
   "metadata": {
    "execution": {
     "iopub.execute_input": "2025-03-08T07:27:35.466021Z",
     "iopub.status.busy": "2025-03-08T07:27:35.465592Z",
     "iopub.status.idle": "2025-03-08T07:27:35.469800Z",
     "shell.execute_reply": "2025-03-08T07:27:35.468724Z"
    },
    "papermill": {
     "duration": 0.031124,
     "end_time": "2025-03-08T07:27:35.471453",
     "exception": false,
     "start_time": "2025-03-08T07:27:35.440329",
     "status": "completed"
    },
    "tags": []
   },
   "outputs": [],
   "source": [
    "X_test = test"
   ]
  },
  {
   "cell_type": "markdown",
   "id": "a28cfbf2",
   "metadata": {
    "papermill": {
     "duration": 0.024827,
     "end_time": "2025-03-08T07:27:35.520694",
     "exception": false,
     "start_time": "2025-03-08T07:27:35.495867",
     "status": "completed"
    },
    "tags": []
   },
   "source": [
    "## DATA TRANSFORMATION"
   ]
  },
  {
   "cell_type": "markdown",
   "id": "616221c6",
   "metadata": {
    "papermill": {
     "duration": 0.024042,
     "end_time": "2025-03-08T07:27:35.568713",
     "exception": false,
     "start_time": "2025-03-08T07:27:35.544671",
     "status": "completed"
    },
    "tags": []
   },
   "source": [
    "### Encoding categorical variables"
   ]
  },
  {
   "cell_type": "markdown",
   "id": "dee5bda8",
   "metadata": {
    "papermill": {
     "duration": 0.024405,
     "end_time": "2025-03-08T07:27:35.617145",
     "exception": false,
     "start_time": "2025-03-08T07:27:35.592740",
     "status": "completed"
    },
    "tags": []
   },
   "source": [
    "### Categorical variables\n",
    "1. Sex\n",
    "2. Embarked\n",
    "3. Deck\n",
    "4. Age Binned"
   ]
  },
  {
   "cell_type": "code",
   "execution_count": 56,
   "id": "96f02bd0",
   "metadata": {
    "execution": {
     "iopub.execute_input": "2025-03-08T07:27:35.667046Z",
     "iopub.status.busy": "2025-03-08T07:27:35.666655Z",
     "iopub.status.idle": "2025-03-08T07:27:35.677828Z",
     "shell.execute_reply": "2025-03-08T07:27:35.676690Z"
    },
    "papermill": {
     "duration": 0.038054,
     "end_time": "2025-03-08T07:27:35.679434",
     "exception": false,
     "start_time": "2025-03-08T07:27:35.641380",
     "status": "completed"
    },
    "tags": []
   },
   "outputs": [
    {
     "data": {
      "text/html": [
       "<div>\n",
       "<style scoped>\n",
       "    .dataframe tbody tr th:only-of-type {\n",
       "        vertical-align: middle;\n",
       "    }\n",
       "\n",
       "    .dataframe tbody tr th {\n",
       "        vertical-align: top;\n",
       "    }\n",
       "\n",
       "    .dataframe thead th {\n",
       "        text-align: right;\n",
       "    }\n",
       "</style>\n",
       "<table border=\"1\" class=\"dataframe\">\n",
       "  <thead>\n",
       "    <tr style=\"text-align: right;\">\n",
       "      <th></th>\n",
       "      <th>Pclass</th>\n",
       "      <th>Sex</th>\n",
       "      <th>SibSp</th>\n",
       "      <th>Parch</th>\n",
       "      <th>Embarked</th>\n",
       "      <th>Fare_log</th>\n",
       "      <th>Age_binned</th>\n",
       "      <th>Deck</th>\n",
       "    </tr>\n",
       "  </thead>\n",
       "  <tbody>\n",
       "    <tr>\n",
       "      <th>0</th>\n",
       "      <td>3</td>\n",
       "      <td>male</td>\n",
       "      <td>1</td>\n",
       "      <td>0</td>\n",
       "      <td>S</td>\n",
       "      <td>2.110213</td>\n",
       "      <td>Young Adult</td>\n",
       "      <td>F</td>\n",
       "    </tr>\n",
       "  </tbody>\n",
       "</table>\n",
       "</div>"
      ],
      "text/plain": [
       "   Pclass   Sex  SibSp  Parch Embarked  Fare_log   Age_binned Deck\n",
       "0       3  male      1      0        S  2.110213  Young Adult    F"
      ]
     },
     "execution_count": 56,
     "metadata": {},
     "output_type": "execute_result"
    }
   ],
   "source": [
    "X_train.head(1)"
   ]
  },
  {
   "cell_type": "code",
   "execution_count": 57,
   "id": "07f46344",
   "metadata": {
    "execution": {
     "iopub.execute_input": "2025-03-08T07:27:35.730254Z",
     "iopub.status.busy": "2025-03-08T07:27:35.729878Z",
     "iopub.status.idle": "2025-03-08T07:27:35.741034Z",
     "shell.execute_reply": "2025-03-08T07:27:35.739843Z"
    },
    "papermill": {
     "duration": 0.038807,
     "end_time": "2025-03-08T07:27:35.743126",
     "exception": false,
     "start_time": "2025-03-08T07:27:35.704319",
     "status": "completed"
    },
    "tags": []
   },
   "outputs": [
    {
     "data": {
      "text/html": [
       "<div>\n",
       "<style scoped>\n",
       "    .dataframe tbody tr th:only-of-type {\n",
       "        vertical-align: middle;\n",
       "    }\n",
       "\n",
       "    .dataframe tbody tr th {\n",
       "        vertical-align: top;\n",
       "    }\n",
       "\n",
       "    .dataframe thead th {\n",
       "        text-align: right;\n",
       "    }\n",
       "</style>\n",
       "<table border=\"1\" class=\"dataframe\">\n",
       "  <thead>\n",
       "    <tr style=\"text-align: right;\">\n",
       "      <th></th>\n",
       "      <th>Pclass</th>\n",
       "      <th>Sex</th>\n",
       "      <th>SibSp</th>\n",
       "      <th>Parch</th>\n",
       "      <th>Embarked</th>\n",
       "      <th>Fare_log</th>\n",
       "      <th>Age_binned</th>\n",
       "      <th>Deck</th>\n",
       "    </tr>\n",
       "  </thead>\n",
       "  <tbody>\n",
       "    <tr>\n",
       "      <th>0</th>\n",
       "      <td>3</td>\n",
       "      <td>male</td>\n",
       "      <td>0</td>\n",
       "      <td>0</td>\n",
       "      <td>Q</td>\n",
       "      <td>2.178064</td>\n",
       "      <td>Young Adult</td>\n",
       "      <td>F</td>\n",
       "    </tr>\n",
       "  </tbody>\n",
       "</table>\n",
       "</div>"
      ],
      "text/plain": [
       "   Pclass   Sex  SibSp  Parch Embarked  Fare_log   Age_binned Deck\n",
       "0       3  male      0      0        Q  2.178064  Young Adult    F"
      ]
     },
     "execution_count": 57,
     "metadata": {},
     "output_type": "execute_result"
    }
   ],
   "source": [
    "X_test.head(1)"
   ]
  },
  {
   "cell_type": "code",
   "execution_count": 58,
   "id": "8740fd10",
   "metadata": {
    "execution": {
     "iopub.execute_input": "2025-03-08T07:27:35.796108Z",
     "iopub.status.busy": "2025-03-08T07:27:35.795697Z",
     "iopub.status.idle": "2025-03-08T07:27:36.020125Z",
     "shell.execute_reply": "2025-03-08T07:27:36.018909Z"
    },
    "papermill": {
     "duration": 0.25356,
     "end_time": "2025-03-08T07:27:36.022219",
     "exception": false,
     "start_time": "2025-03-08T07:27:35.768659",
     "status": "completed"
    },
    "tags": []
   },
   "outputs": [],
   "source": [
    "from sklearn.preprocessing import OneHotEncoder\n",
    "\n",
    "# Select categorical columns for encoding (e.g., 'Embarked', 'Sex')\n",
    "categorical_columns = ['Embarked', 'Sex', 'Age_binned', 'Deck']  \n",
    "\n",
    "# Initialize OneHotEncoder\n",
    "encoder = OneHotEncoder(sparse_output=False, handle_unknown='ignore')\n",
    "\n",
    "# Fit the encoder on the training features' categorical columns\n",
    "X_train_encoded = encoder.fit_transform(X_train[categorical_columns])\n",
    "\n",
    "# Apply the same encoder to the test features\n",
    "X_test_encoded = encoder.transform(X_test[categorical_columns])\n",
    "\n",
    "# Convert the encoded arrays back to DataFrames and add to the original data\n",
    "# Training set\n",
    "encoded_train_df = pd.DataFrame(X_train_encoded, columns=encoder.get_feature_names_out(categorical_columns))\n",
    "X_train = X_train.reset_index(drop=True)  # To match the index before concatenating\n",
    "X_train = pd.concat([X_train.drop(columns=categorical_columns), encoded_train_df], axis=1)\n",
    "\n",
    "# Test set\n",
    "encoded_test_df = pd.DataFrame(X_test_encoded, columns=encoder.get_feature_names_out(categorical_columns))\n",
    "X_test = X_test.reset_index(drop=True)  # To match the index before concatenating\n",
    "X_test = pd.concat([X_test.drop(columns=categorical_columns), encoded_test_df], axis=1)\n",
    "\n",
    "# Now X_train and X_test are fully encoded and ready for model training and predictions\n"
   ]
  },
  {
   "cell_type": "code",
   "execution_count": 59,
   "id": "78902767",
   "metadata": {
    "execution": {
     "iopub.execute_input": "2025-03-08T07:27:36.074220Z",
     "iopub.status.busy": "2025-03-08T07:27:36.073832Z",
     "iopub.status.idle": "2025-03-08T07:27:36.094501Z",
     "shell.execute_reply": "2025-03-08T07:27:36.093481Z"
    },
    "papermill": {
     "duration": 0.049529,
     "end_time": "2025-03-08T07:27:36.096592",
     "exception": false,
     "start_time": "2025-03-08T07:27:36.047063",
     "status": "completed"
    },
    "tags": []
   },
   "outputs": [
    {
     "data": {
      "text/html": [
       "<div>\n",
       "<style scoped>\n",
       "    .dataframe tbody tr th:only-of-type {\n",
       "        vertical-align: middle;\n",
       "    }\n",
       "\n",
       "    .dataframe tbody tr th {\n",
       "        vertical-align: top;\n",
       "    }\n",
       "\n",
       "    .dataframe thead th {\n",
       "        text-align: right;\n",
       "    }\n",
       "</style>\n",
       "<table border=\"1\" class=\"dataframe\">\n",
       "  <thead>\n",
       "    <tr style=\"text-align: right;\">\n",
       "      <th></th>\n",
       "      <th>Pclass</th>\n",
       "      <th>SibSp</th>\n",
       "      <th>Parch</th>\n",
       "      <th>Fare_log</th>\n",
       "      <th>Embarked_C</th>\n",
       "      <th>Embarked_Q</th>\n",
       "      <th>Embarked_S</th>\n",
       "      <th>Sex_female</th>\n",
       "      <th>Sex_male</th>\n",
       "      <th>Age_binned_Adult</th>\n",
       "      <th>...</th>\n",
       "      <th>Age_binned_Teen</th>\n",
       "      <th>Age_binned_Young Adult</th>\n",
       "      <th>Deck_A</th>\n",
       "      <th>Deck_B</th>\n",
       "      <th>Deck_C</th>\n",
       "      <th>Deck_D</th>\n",
       "      <th>Deck_E</th>\n",
       "      <th>Deck_F</th>\n",
       "      <th>Deck_G</th>\n",
       "      <th>Deck_T</th>\n",
       "    </tr>\n",
       "  </thead>\n",
       "  <tbody>\n",
       "    <tr>\n",
       "      <th>0</th>\n",
       "      <td>3</td>\n",
       "      <td>1</td>\n",
       "      <td>0</td>\n",
       "      <td>2.110213</td>\n",
       "      <td>0.0</td>\n",
       "      <td>0.0</td>\n",
       "      <td>1.0</td>\n",
       "      <td>0.0</td>\n",
       "      <td>1.0</td>\n",
       "      <td>0.0</td>\n",
       "      <td>...</td>\n",
       "      <td>0.0</td>\n",
       "      <td>1.0</td>\n",
       "      <td>0.0</td>\n",
       "      <td>0.0</td>\n",
       "      <td>0.0</td>\n",
       "      <td>0.0</td>\n",
       "      <td>0.0</td>\n",
       "      <td>1.0</td>\n",
       "      <td>0.0</td>\n",
       "      <td>0.0</td>\n",
       "    </tr>\n",
       "  </tbody>\n",
       "</table>\n",
       "<p>1 rows × 22 columns</p>\n",
       "</div>"
      ],
      "text/plain": [
       "   Pclass  SibSp  Parch  Fare_log  Embarked_C  Embarked_Q  Embarked_S  \\\n",
       "0       3      1      0  2.110213         0.0         0.0         1.0   \n",
       "\n",
       "   Sex_female  Sex_male  Age_binned_Adult  ...  Age_binned_Teen  \\\n",
       "0         0.0       1.0               0.0  ...              0.0   \n",
       "\n",
       "   Age_binned_Young Adult  Deck_A  Deck_B  Deck_C  Deck_D  Deck_E  Deck_F  \\\n",
       "0                     1.0     0.0     0.0     0.0     0.0     0.0     1.0   \n",
       "\n",
       "   Deck_G  Deck_T  \n",
       "0     0.0     0.0  \n",
       "\n",
       "[1 rows x 22 columns]"
      ]
     },
     "execution_count": 59,
     "metadata": {},
     "output_type": "execute_result"
    }
   ],
   "source": [
    "X_train.head(1)"
   ]
  },
  {
   "cell_type": "code",
   "execution_count": 60,
   "id": "01b92480",
   "metadata": {
    "execution": {
     "iopub.execute_input": "2025-03-08T07:27:36.149851Z",
     "iopub.status.busy": "2025-03-08T07:27:36.149476Z",
     "iopub.status.idle": "2025-03-08T07:27:36.170103Z",
     "shell.execute_reply": "2025-03-08T07:27:36.169057Z"
    },
    "papermill": {
     "duration": 0.048694,
     "end_time": "2025-03-08T07:27:36.172031",
     "exception": false,
     "start_time": "2025-03-08T07:27:36.123337",
     "status": "completed"
    },
    "tags": []
   },
   "outputs": [
    {
     "data": {
      "text/html": [
       "<div>\n",
       "<style scoped>\n",
       "    .dataframe tbody tr th:only-of-type {\n",
       "        vertical-align: middle;\n",
       "    }\n",
       "\n",
       "    .dataframe tbody tr th {\n",
       "        vertical-align: top;\n",
       "    }\n",
       "\n",
       "    .dataframe thead th {\n",
       "        text-align: right;\n",
       "    }\n",
       "</style>\n",
       "<table border=\"1\" class=\"dataframe\">\n",
       "  <thead>\n",
       "    <tr style=\"text-align: right;\">\n",
       "      <th></th>\n",
       "      <th>Pclass</th>\n",
       "      <th>SibSp</th>\n",
       "      <th>Parch</th>\n",
       "      <th>Fare_log</th>\n",
       "      <th>Embarked_C</th>\n",
       "      <th>Embarked_Q</th>\n",
       "      <th>Embarked_S</th>\n",
       "      <th>Sex_female</th>\n",
       "      <th>Sex_male</th>\n",
       "      <th>Age_binned_Adult</th>\n",
       "      <th>...</th>\n",
       "      <th>Age_binned_Teen</th>\n",
       "      <th>Age_binned_Young Adult</th>\n",
       "      <th>Deck_A</th>\n",
       "      <th>Deck_B</th>\n",
       "      <th>Deck_C</th>\n",
       "      <th>Deck_D</th>\n",
       "      <th>Deck_E</th>\n",
       "      <th>Deck_F</th>\n",
       "      <th>Deck_G</th>\n",
       "      <th>Deck_T</th>\n",
       "    </tr>\n",
       "  </thead>\n",
       "  <tbody>\n",
       "    <tr>\n",
       "      <th>0</th>\n",
       "      <td>3</td>\n",
       "      <td>0</td>\n",
       "      <td>0</td>\n",
       "      <td>2.178064</td>\n",
       "      <td>0.0</td>\n",
       "      <td>1.0</td>\n",
       "      <td>0.0</td>\n",
       "      <td>0.0</td>\n",
       "      <td>1.0</td>\n",
       "      <td>0.0</td>\n",
       "      <td>...</td>\n",
       "      <td>0.0</td>\n",
       "      <td>1.0</td>\n",
       "      <td>0.0</td>\n",
       "      <td>0.0</td>\n",
       "      <td>0.0</td>\n",
       "      <td>0.0</td>\n",
       "      <td>0.0</td>\n",
       "      <td>1.0</td>\n",
       "      <td>0.0</td>\n",
       "      <td>0.0</td>\n",
       "    </tr>\n",
       "  </tbody>\n",
       "</table>\n",
       "<p>1 rows × 22 columns</p>\n",
       "</div>"
      ],
      "text/plain": [
       "   Pclass  SibSp  Parch  Fare_log  Embarked_C  Embarked_Q  Embarked_S  \\\n",
       "0       3      0      0  2.178064         0.0         1.0         0.0   \n",
       "\n",
       "   Sex_female  Sex_male  Age_binned_Adult  ...  Age_binned_Teen  \\\n",
       "0         0.0       1.0               0.0  ...              0.0   \n",
       "\n",
       "   Age_binned_Young Adult  Deck_A  Deck_B  Deck_C  Deck_D  Deck_E  Deck_F  \\\n",
       "0                     1.0     0.0     0.0     0.0     0.0     0.0     1.0   \n",
       "\n",
       "   Deck_G  Deck_T  \n",
       "0     0.0     0.0  \n",
       "\n",
       "[1 rows x 22 columns]"
      ]
     },
     "execution_count": 60,
     "metadata": {},
     "output_type": "execute_result"
    }
   ],
   "source": [
    "X_test.head(1)"
   ]
  },
  {
   "cell_type": "markdown",
   "id": "416f8bfc",
   "metadata": {
    "papermill": {
     "duration": 0.025076,
     "end_time": "2025-03-08T07:27:36.222411",
     "exception": false,
     "start_time": "2025-03-08T07:27:36.197335",
     "status": "completed"
    },
    "tags": []
   },
   "source": [
    "## FEATURE SCALING"
   ]
  },
  {
   "cell_type": "code",
   "execution_count": 61,
   "id": "dc9baad7",
   "metadata": {
    "execution": {
     "iopub.execute_input": "2025-03-08T07:27:36.274582Z",
     "iopub.status.busy": "2025-03-08T07:27:36.274201Z",
     "iopub.status.idle": "2025-03-08T07:27:36.298861Z",
     "shell.execute_reply": "2025-03-08T07:27:36.297716Z"
    },
    "papermill": {
     "duration": 0.053412,
     "end_time": "2025-03-08T07:27:36.300843",
     "exception": false,
     "start_time": "2025-03-08T07:27:36.247431",
     "status": "completed"
    },
    "tags": []
   },
   "outputs": [],
   "source": [
    "from sklearn.preprocessing import StandardScaler\n",
    "\n",
    "# Initialize the scaler\n",
    "scaler = StandardScaler()\n",
    "\n",
    "# Fit the scaler on the training data \n",
    "X_train_scaled = scaler.fit_transform(X_train)\n",
    "\n",
    "# Transform the test data using the same scaler\n",
    "X_test_scaled = scaler.transform(X_test)\n",
    "\n",
    "# Now X_train_scaled and X_test_scaled are scaled versions of your features"
   ]
  },
  {
   "cell_type": "markdown",
   "id": "f1faad7a",
   "metadata": {
    "papermill": {
     "duration": 0.024695,
     "end_time": "2025-03-08T07:27:36.351151",
     "exception": false,
     "start_time": "2025-03-08T07:27:36.326456",
     "status": "completed"
    },
    "tags": []
   },
   "source": [
    "## CROSS VALIDATION"
   ]
  },
  {
   "cell_type": "markdown",
   "id": "d6bb9f1c",
   "metadata": {
    "papermill": {
     "duration": 0.025567,
     "end_time": "2025-03-08T07:27:36.402021",
     "exception": false,
     "start_time": "2025-03-08T07:27:36.376454",
     "status": "completed"
    },
    "tags": []
   },
   "source": [
    "## MODEL BUILDING"
   ]
  },
  {
   "cell_type": "code",
   "execution_count": 62,
   "id": "28f3be40",
   "metadata": {
    "execution": {
     "iopub.execute_input": "2025-03-08T07:27:36.454301Z",
     "iopub.status.busy": "2025-03-08T07:27:36.453962Z",
     "iopub.status.idle": "2025-03-08T07:27:36.877431Z",
     "shell.execute_reply": "2025-03-08T07:27:36.876382Z"
    },
    "papermill": {
     "duration": 0.452397,
     "end_time": "2025-03-08T07:27:36.879382",
     "exception": false,
     "start_time": "2025-03-08T07:27:36.426985",
     "status": "completed"
    },
    "tags": []
   },
   "outputs": [
    {
     "name": "stdout",
     "output_type": "stream",
     "text": [
      "Logistic Regression - Cross-Validation Accuracy Scores: [0.78212291 0.80337079 0.78089888 0.7752809  0.81460674]\n",
      "Logistic Regression - Mean CV Accuracy: 0.7912560416797438\n"
     ]
    }
   ],
   "source": [
    "# LOGISTIC REGRESSION\n",
    "\n",
    "from sklearn.linear_model import LogisticRegression\n",
    "from sklearn.model_selection import cross_val_score\n",
    "\n",
    "# Initialize the model\n",
    "lr_model = LogisticRegression()\n",
    "\n",
    "# Perform 5-fold cross-validation on the training set\n",
    "cv_scores = cross_val_score(lr_model, X_train, y_train, cv=5, scoring='accuracy')\n",
    "\n",
    "# Print cross-validation scores\n",
    "print(f\"Logistic Regression - Cross-Validation Accuracy Scores: {cv_scores}\")\n",
    "print(f\"Logistic Regression - Mean CV Accuracy: {cv_scores.mean()}\")\n",
    "\n",
    "# Train on full training data\n",
    "lr_model.fit(X_train, y_train)\n",
    "\n",
    "# Make predictions on the test set\n",
    "lr_test_predictions = lr_model.predict(X_test)"
   ]
  },
  {
   "cell_type": "code",
   "execution_count": 63,
   "id": "fde8e331",
   "metadata": {
    "execution": {
     "iopub.execute_input": "2025-03-08T07:27:36.935045Z",
     "iopub.status.busy": "2025-03-08T07:27:36.934696Z",
     "iopub.status.idle": "2025-03-08T07:27:37.896136Z",
     "shell.execute_reply": "2025-03-08T07:27:37.894959Z"
    },
    "papermill": {
     "duration": 0.992691,
     "end_time": "2025-03-08T07:27:37.897813",
     "exception": false,
     "start_time": "2025-03-08T07:27:36.905122",
     "status": "completed"
    },
    "tags": []
   },
   "outputs": [
    {
     "name": "stdout",
     "output_type": "stream",
     "text": [
      "Cross-Validation Accuracy Scores: [0.79329609 0.76966292 0.85955056 0.79775281 0.8258427 ]\n",
      "Mean CV Accuracy: 0.8092210156299039\n"
     ]
    }
   ],
   "source": [
    "# RANDOM FOREST CLASSIFIER\n",
    "\n",
    "from sklearn.model_selection import cross_val_score\n",
    "from sklearn.ensemble import RandomForestClassifier\n",
    "\n",
    "# Initialize your model\n",
    "rf_model = RandomForestClassifier(n_estimators=50, random_state=42)\n",
    "\n",
    "# Perform 5-fold cross-validation on the training set\n",
    "cv_scores = cross_val_score(rf_model, X_train, y_train, cv=5, scoring='accuracy')\n",
    "\n",
    "# Print cross-validation scores\n",
    "print(f\"Cross-Validation Accuracy Scores: {cv_scores}\")\n",
    "print(f\"Mean CV Accuracy: {cv_scores.mean()}\")\n",
    "\n",
    "# Train on full training data\n",
    "rf_model.fit(X_train, y_train)\n",
    "\n",
    "# Make predictions on the test set\n",
    "rf_test_predictions = rf_model.predict(X_test)"
   ]
  },
  {
   "cell_type": "code",
   "execution_count": 64,
   "id": "ea6960a6",
   "metadata": {
    "execution": {
     "iopub.execute_input": "2025-03-08T07:27:37.949908Z",
     "iopub.status.busy": "2025-03-08T07:27:37.949505Z",
     "iopub.status.idle": "2025-03-08T07:27:37.998308Z",
     "shell.execute_reply": "2025-03-08T07:27:37.997088Z"
    },
    "papermill": {
     "duration": 0.076922,
     "end_time": "2025-03-08T07:27:38.000088",
     "exception": false,
     "start_time": "2025-03-08T07:27:37.923166",
     "status": "completed"
    },
    "tags": []
   },
   "outputs": [
    {
     "name": "stdout",
     "output_type": "stream",
     "text": [
      "Decision Tree - Cross-Validation Accuracy Scores: [0.81564246 0.78651685 0.80898876 0.79213483 0.83146067]\n",
      "Decision Tree - Mean CV Accuracy: 0.8069487163392128\n"
     ]
    }
   ],
   "source": [
    "# DECISION TREE CLASSIFIER\n",
    "\n",
    "from sklearn.tree import DecisionTreeClassifier\n",
    "from sklearn.model_selection import cross_val_score\n",
    "\n",
    "# Initialize the model\n",
    "dt_model = DecisionTreeClassifier()\n",
    "\n",
    "# Perform 5-fold cross-validation on the training set\n",
    "cv_scores = cross_val_score(dt_model, X_train, y_train, cv=5, scoring='accuracy')\n",
    "\n",
    "# Print cross-validation scores\n",
    "print(f\"Decision Tree - Cross-Validation Accuracy Scores: {cv_scores}\")\n",
    "print(f\"Decision Tree - Mean CV Accuracy: {cv_scores.mean()}\")\n",
    "\n",
    "# Train on full training data\n",
    "dt_model.fit(X_train, y_train)\n",
    "\n",
    "# Make predictions on the test set\n",
    "dt_test_predictions = dt_model.predict(X_test)"
   ]
  },
  {
   "cell_type": "code",
   "execution_count": 65,
   "id": "86e81c2d",
   "metadata": {
    "execution": {
     "iopub.execute_input": "2025-03-08T07:27:38.053045Z",
     "iopub.status.busy": "2025-03-08T07:27:38.052685Z",
     "iopub.status.idle": "2025-03-08T07:27:38.231040Z",
     "shell.execute_reply": "2025-03-08T07:27:38.229947Z"
    },
    "papermill": {
     "duration": 0.206758,
     "end_time": "2025-03-08T07:27:38.233088",
     "exception": false,
     "start_time": "2025-03-08T07:27:38.026330",
     "status": "completed"
    },
    "tags": []
   },
   "outputs": [
    {
     "name": "stdout",
     "output_type": "stream",
     "text": [
      "SVM - Cross-Validation Accuracy Scores: [0.82681564 0.8258427  0.81460674 0.79775281 0.83707865]\n",
      "SVM - Mean CV Accuracy: 0.8204193082669009\n"
     ]
    }
   ],
   "source": [
    "# SVM\n",
    "\n",
    "from sklearn.svm import SVC\n",
    "from sklearn.model_selection import cross_val_score\n",
    "\n",
    "# Initialize the model\n",
    "svm_model = SVC()\n",
    "\n",
    "# Perform 5-fold cross-validation on the training set\n",
    "cv_scores = cross_val_score(svm_model, X_train, y_train, cv=5, scoring='accuracy')\n",
    "\n",
    "# Print cross-validation scores\n",
    "print(f\"SVM - Cross-Validation Accuracy Scores: {cv_scores}\")\n",
    "print(f\"SVM - Mean CV Accuracy: {cv_scores.mean()}\")\n",
    "\n",
    "# Train on full training data\n",
    "svm_model.fit(X_train, y_train)\n",
    "\n",
    "# Make predictions on the test set\n",
    "svm_test_predictions = svm_model.predict(X_test)"
   ]
  },
  {
   "cell_type": "code",
   "execution_count": 66,
   "id": "1e346243",
   "metadata": {
    "execution": {
     "iopub.execute_input": "2025-03-08T07:27:38.284891Z",
     "iopub.status.busy": "2025-03-08T07:27:38.284503Z",
     "iopub.status.idle": "2025-03-08T07:27:38.447774Z",
     "shell.execute_reply": "2025-03-08T07:27:38.446505Z"
    },
    "papermill": {
     "duration": 0.191142,
     "end_time": "2025-03-08T07:27:38.449496",
     "exception": false,
     "start_time": "2025-03-08T07:27:38.258354",
     "status": "completed"
    },
    "tags": []
   },
   "outputs": [
    {
     "name": "stdout",
     "output_type": "stream",
     "text": [
      "KNN - Cross-Validation Accuracy Scores: [0.74860335 0.7752809  0.83707865 0.80337079 0.8258427 ]\n",
      "KNN - Mean CV Accuracy: 0.7980352771326344\n"
     ]
    }
   ],
   "source": [
    "# K-NEAREST-NEIGHBORS\n",
    "\n",
    "from sklearn.neighbors import KNeighborsClassifier\n",
    "from sklearn.model_selection import cross_val_score\n",
    "\n",
    "# Initialize the model\n",
    "knn_model = KNeighborsClassifier()\n",
    "\n",
    "# Perform 5-fold cross-validation on the training set\n",
    "cv_scores = cross_val_score(knn_model, X_train, y_train, cv=5, scoring='accuracy')\n",
    "\n",
    "# Print cross-validation scores\n",
    "print(f\"KNN - Cross-Validation Accuracy Scores: {cv_scores}\")\n",
    "print(f\"KNN - Mean CV Accuracy: {cv_scores.mean()}\")\n",
    "\n",
    "# Train on full training data\n",
    "knn_model.fit(X_train, y_train)\n",
    "\n",
    "# Make predictions on the test set\n",
    "knn_test_predictions = knn_model.predict(X_test)"
   ]
  },
  {
   "cell_type": "code",
   "execution_count": 67,
   "id": "bbd0a0fe",
   "metadata": {
    "execution": {
     "iopub.execute_input": "2025-03-08T07:27:38.504012Z",
     "iopub.status.busy": "2025-03-08T07:27:38.503658Z",
     "iopub.status.idle": "2025-03-08T07:27:39.277891Z",
     "shell.execute_reply": "2025-03-08T07:27:39.276512Z"
    },
    "papermill": {
     "duration": 0.803564,
     "end_time": "2025-03-08T07:27:39.279808",
     "exception": false,
     "start_time": "2025-03-08T07:27:38.476244",
     "status": "completed"
    },
    "tags": []
   },
   "outputs": [
    {
     "name": "stdout",
     "output_type": "stream",
     "text": [
      "Gradient Boosting - Cross-Validation Accuracy Scores: [0.79329609 0.80337079 0.84269663 0.7752809  0.85393258]\n",
      "Gradient Boosting - Mean CV Accuracy: 0.8137153976523759\n"
     ]
    }
   ],
   "source": [
    "# GRADIENT BOOSTING\n",
    "\n",
    "from sklearn.ensemble import GradientBoostingClassifier\n",
    "from sklearn.model_selection import cross_val_score\n",
    "\n",
    "# Initialize the model\n",
    "gb_model = GradientBoostingClassifier()\n",
    "\n",
    "# Perform 5-fold cross-validation on the training set\n",
    "cv_scores = cross_val_score(gb_model, X_train, y_train, cv=5, scoring='accuracy')\n",
    "\n",
    "# Print cross-validation scores\n",
    "print(f\"Gradient Boosting - Cross-Validation Accuracy Scores: {cv_scores}\")\n",
    "print(f\"Gradient Boosting - Mean CV Accuracy: {cv_scores.mean()}\")\n",
    "\n",
    "# Train on full training data\n",
    "gb_model.fit(X_train, y_train)\n",
    "\n",
    "# Make predictions on the test set\n",
    "gb_test_predictions = gb_model.predict(X_test)"
   ]
  },
  {
   "cell_type": "code",
   "execution_count": 68,
   "id": "b489f7bd",
   "metadata": {
    "execution": {
     "iopub.execute_input": "2025-03-08T07:27:39.335140Z",
     "iopub.status.busy": "2025-03-08T07:27:39.334771Z",
     "iopub.status.idle": "2025-03-08T07:27:40.089537Z",
     "shell.execute_reply": "2025-03-08T07:27:40.087286Z"
    },
    "papermill": {
     "duration": 0.785251,
     "end_time": "2025-03-08T07:27:40.091672",
     "exception": false,
     "start_time": "2025-03-08T07:27:39.306421",
     "status": "completed"
    },
    "tags": []
   },
   "outputs": [
    {
     "name": "stdout",
     "output_type": "stream",
     "text": [
      "XGBoost - Cross-Validation Accuracy Scores: [0.78212291 0.81460674 0.8258427  0.79213483 0.85955056]\n",
      "XGBoost - Mean CV Accuracy: 0.8148515472977215\n"
     ]
    }
   ],
   "source": [
    "# XG BOOST CLASSIFIER\n",
    "\n",
    "from xgboost import XGBClassifier\n",
    "from sklearn.model_selection import cross_val_score\n",
    "\n",
    "# Initialize the model\n",
    "xgb_model = XGBClassifier()\n",
    "\n",
    "# Perform 5-fold cross-validation on the training set\n",
    "cv_scores = cross_val_score(xgb_model, X_train, y_train, cv=5, scoring='accuracy')\n",
    "\n",
    "# Print cross-validation scores\n",
    "print(f\"XGBoost - Cross-Validation Accuracy Scores: {cv_scores}\")\n",
    "print(f\"XGBoost - Mean CV Accuracy: {cv_scores.mean()}\")\n",
    "\n",
    "# Train on full training data\n",
    "xgb_model.fit(X_train, y_train)\n",
    "\n",
    "# Make predictions on the test set\n",
    "xgb_test_predictions = xgb_model.predict(X_test)"
   ]
  },
  {
   "cell_type": "markdown",
   "id": "59da95d2",
   "metadata": {
    "papermill": {
     "duration": 0.024982,
     "end_time": "2025-03-08T07:27:40.143169",
     "exception": false,
     "start_time": "2025-03-08T07:27:40.118187",
     "status": "completed"
    },
    "tags": []
   },
   "source": [
    "**Observation:** Highest accuracy given model: SVM = 82.04%\n",
    "\n",
    "and lowest being: Logistic Regression = 79.12%"
   ]
  },
  {
   "cell_type": "markdown",
   "id": "f3db2193",
   "metadata": {
    "papermill": {
     "duration": 0.02503,
     "end_time": "2025-03-08T07:27:40.194411",
     "exception": false,
     "start_time": "2025-03-08T07:27:40.169381",
     "status": "completed"
    },
    "tags": []
   },
   "source": [
    "## HYPERPARAMETER TUNING"
   ]
  },
  {
   "cell_type": "code",
   "execution_count": 69,
   "id": "9ac93097",
   "metadata": {
    "execution": {
     "iopub.execute_input": "2025-03-08T07:27:40.246833Z",
     "iopub.status.busy": "2025-03-08T07:27:40.246444Z",
     "iopub.status.idle": "2025-03-08T07:27:58.842916Z",
     "shell.execute_reply": "2025-03-08T07:27:58.841494Z"
    },
    "papermill": {
     "duration": 18.625058,
     "end_time": "2025-03-08T07:27:58.844981",
     "exception": false,
     "start_time": "2025-03-08T07:27:40.219923",
     "status": "completed"
    },
    "tags": []
   },
   "outputs": [
    {
     "name": "stdout",
     "output_type": "stream",
     "text": [
      "Best Hyperparameters: {'tol': 0.001, 'kernel': 'poly', 'gamma': 'auto', 'degree': 2, 'C': 100.0}\n",
      "Best Cross-Validation Accuracy: 0.8271734354403366\n"
     ]
    }
   ],
   "source": [
    "from sklearn.model_selection import RandomizedSearchCV\n",
    "from sklearn.svm import SVC\n",
    "\n",
    "# Initialize the SVC model\n",
    "svc_model = SVC(random_state=42)\n",
    "\n",
    "# Define the hyperparameter space\n",
    "param_dist = {\n",
    "    'C': np.logspace(-3, 2, 6),  # Regularization parameter\n",
    "    'kernel': ['linear', 'rbf', 'poly', 'sigmoid'],  # Kernel types\n",
    "    'gamma': ['scale', 'auto'],  # Kernel coefficient\n",
    "    'degree': [2, 3, 4, 5],  # Degree for 'poly' kernel\n",
    "    'tol': [1e-3, 1e-4, 1e-5]  # Tolerance for stopping criterion\n",
    "}\n",
    "\n",
    "# Set up RandomizedSearchCV\n",
    "random_search = RandomizedSearchCV(estimator=svc_model, param_distributions=param_dist,\n",
    "                                   n_iter=50, cv=5, scoring='accuracy', n_jobs=-1, random_state=42)\n",
    "\n",
    "# Fit the randomized search model\n",
    "random_search.fit(X_train, y_train)\n",
    "\n",
    "# Get the best hyperparameters\n",
    "print(f\"Best Hyperparameters: {random_search.best_params_}\")\n",
    "print(f\"Best Cross-Validation Accuracy: {random_search.best_score_}\")\n",
    "\n",
    "# Train the model with the best hyperparameters\n",
    "best_svc_model = random_search.best_estimator_\n",
    "\n",
    "# Make predictions on the test set\n",
    "test_predictions = best_svc_model.predict(X_test)"
   ]
  },
  {
   "cell_type": "markdown",
   "id": "684a49c4",
   "metadata": {
    "papermill": {
     "duration": 0.025587,
     "end_time": "2025-03-08T07:27:58.896425",
     "exception": false,
     "start_time": "2025-03-08T07:27:58.870838",
     "status": "completed"
    },
    "tags": []
   },
   "source": [
    "**Observation:** SVM after Hyperparamter tuning = 82.71%"
   ]
  },
  {
   "cell_type": "markdown",
   "id": "5e7d8d07",
   "metadata": {
    "papermill": {
     "duration": 0.026057,
     "end_time": "2025-03-08T07:27:58.948254",
     "exception": false,
     "start_time": "2025-03-08T07:27:58.922197",
     "status": "completed"
    },
    "tags": []
   },
   "source": [
    "# PREPARING SUBMISSION FILE"
   ]
  },
  {
   "cell_type": "code",
   "execution_count": 70,
   "id": "059292b4",
   "metadata": {
    "execution": {
     "iopub.execute_input": "2025-03-08T07:27:59.002674Z",
     "iopub.status.busy": "2025-03-08T07:27:59.002254Z",
     "iopub.status.idle": "2025-03-08T07:27:59.010936Z",
     "shell.execute_reply": "2025-03-08T07:27:59.009781Z"
    },
    "papermill": {
     "duration": 0.039036,
     "end_time": "2025-03-08T07:27:59.012845",
     "exception": false,
     "start_time": "2025-03-08T07:27:58.973809",
     "status": "completed"
    },
    "tags": []
   },
   "outputs": [],
   "source": [
    "# Reload only the PassengerId column from the test dataset\n",
    "passenger_ids = pd.read_csv('/kaggle/input/titanic/test.csv', usecols=['PassengerId'])"
   ]
  },
  {
   "cell_type": "code",
   "execution_count": 71,
   "id": "e492b7e5",
   "metadata": {
    "execution": {
     "iopub.execute_input": "2025-03-08T07:27:59.065995Z",
     "iopub.status.busy": "2025-03-08T07:27:59.065567Z",
     "iopub.status.idle": "2025-03-08T07:27:59.090020Z",
     "shell.execute_reply": "2025-03-08T07:27:59.088906Z"
    },
    "papermill": {
     "duration": 0.052792,
     "end_time": "2025-03-08T07:27:59.091930",
     "exception": false,
     "start_time": "2025-03-08T07:27:59.039138",
     "status": "completed"
    },
    "tags": []
   },
   "outputs": [],
   "source": [
    "# After predicting on the test data\n",
    "svm_test_predictions = svm_model.predict(X_test) \n",
    "\n",
    "# Create the submission file\n",
    "submission = pd.DataFrame({\n",
    "    'PassengerId': passenger_ids['PassengerId'],\n",
    "    'Survived': svm_test_predictions  \n",
    "})\n",
    "\n",
    "# Save the submission file as CSV\n",
    "submission.to_csv('submission.csv', index=False)"
   ]
  },
  {
   "cell_type": "code",
   "execution_count": null,
   "id": "b5439dc2",
   "metadata": {
    "papermill": {
     "duration": 0.02541,
     "end_time": "2025-03-08T07:27:59.143214",
     "exception": false,
     "start_time": "2025-03-08T07:27:59.117804",
     "status": "completed"
    },
    "tags": []
   },
   "outputs": [],
   "source": []
  }
 ],
 "metadata": {
  "kaggle": {
   "accelerator": "none",
   "dataSources": [
    {
     "databundleVersionId": 26502,
     "sourceId": 3136,
     "sourceType": "competition"
    }
   ],
   "dockerImageVersionId": 30918,
   "isGpuEnabled": false,
   "isInternetEnabled": false,
   "language": "python",
   "sourceType": "notebook"
  },
  "kernelspec": {
   "display_name": "Python 3",
   "language": "python",
   "name": "python3"
  },
  "language_info": {
   "codemirror_mode": {
    "name": "ipython",
    "version": 3
   },
   "file_extension": ".py",
   "mimetype": "text/x-python",
   "name": "python",
   "nbconvert_exporter": "python",
   "pygments_lexer": "ipython3",
   "version": "3.10.12"
  },
  "papermill": {
   "default_parameters": {},
   "duration": 36.498061,
   "end_time": "2025-03-08T07:27:59.995553",
   "environment_variables": {},
   "exception": null,
   "input_path": "__notebook__.ipynb",
   "output_path": "__notebook__.ipynb",
   "parameters": {},
   "start_time": "2025-03-08T07:27:23.497492",
   "version": "2.6.0"
  }
 },
 "nbformat": 4,
 "nbformat_minor": 5
}
